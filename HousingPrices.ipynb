{
  "nbformat": 4,
  "nbformat_minor": 0,
  "metadata": {
    "colab": {
      "name": "HousingPrices.ipynb",
      "provenance": []
    },
    "kernelspec": {
      "name": "python3",
      "display_name": "Python 3"
    }
  },
  "cells": [
    {
      "cell_type": "markdown",
      "metadata": {
        "id": "JqtD_MsrwT8n"
      },
      "source": [
        "#Uploading dataset to Google Colab"
      ]
    },
    {
      "cell_type": "code",
      "metadata": {
        "colab": {
          "resources": {
            "http://localhost:8080/nbextensions/google.colab/files.js": {
              "data": "sK",
              "ok": true,
              "headers": [
                [
                  "content-type",
                  "application/javascript"
                ]
              ],
              "status": 200,
              "status_text": ""
            }
          },
          "base_uri": "https://localhost:8080/",
          "height": 108
        },
        "id": "Hi19553st3To",
        "outputId": "6ff52d3f-3500-4dd6-b68f-b1b32a30f735"
      },
      "source": [
        "from google.colab import files\r\n",
        "files.upload()"
      ],
      "execution_count": 2,
      "outputs": [
        {
          "output_type": "display_data",
          "data": {
            "text/html": [
              "\n",
              "     <input type=\"file\" id=\"files-75c6cda7-763d-413c-b567-e9ef383fdd66\" name=\"files[]\" multiple disabled\n",
              "        style=\"border:none\" />\n",
              "     <output id=\"result-75c6cda7-763d-413c-b567-e9ef383fdd66\">\n",
              "      Upload widget is only available when the cell has been executed in the\n",
              "      current browser session. Please rerun this cell to enable.\n",
              "      </output>\n",
              "      <script src=\"/nbextensions/google.colab/files.js\"></script> "
            ],
            "text/plain": [
              "<IPython.core.display.HTML object>"
            ]
          },
          "metadata": {
            "tags": []
          }
        },
        {
          "output_type": "stream",
          "text": [
            "Saving housepricedata.csv to housepricedata.csv\n"
          ],
          "name": "stdout"
        },
        {
          "output_type": "execute_result",
          "data": {
            "text/plain": [
              "{'housepricedata.csv': n'}"
            ]
          },
          "metadata": {
            "tags": []
          },
          "execution_count": 2
        }
      ]
    },
    {
      "cell_type": "markdown",
      "metadata": {
        "id": "MEwnY56TwYpu"
      },
      "source": [
        "#Importing libraries we need"
      ]
    },
    {
      "cell_type": "code",
      "metadata": {
        "id": "sogvYHrUuO9s"
      },
      "source": [
        "import pandas as pd\r\n",
        "from sklearn import preprocessing\r\n",
        "from sklearn.model_selection import train_test_split\r\n"
      ],
      "execution_count": 14,
      "outputs": []
    },
    {
      "cell_type": "markdown",
      "metadata": {
        "id": "nS8fzhPvweK2"
      },
      "source": [
        "#Reading and showing data"
      ]
    },
    {
      "cell_type": "code",
      "metadata": {
        "colab": {
          "base_uri": "https://localhost:8080/",
          "height": 406
        },
        "id": "GzqVQ2sguIt1",
        "outputId": "8990c115-1c40-4ac8-a003-27f8d032ceba"
      },
      "source": [
        "data=pd.read_csv(\"/content/housepricedata.csv\")\r\n",
        "data"
      ],
      "execution_count": 7,
      "outputs": [
        {
          "output_type": "execute_result",
          "data": {
            "text/html": [
              "<div>\n",
              "<style scoped>\n",
              "    .dataframe tbody tr th:only-of-type {\n",
              "        vertical-align: middle;\n",
              "    }\n",
              "\n",
              "    .dataframe tbody tr th {\n",
              "        vertical-align: top;\n",
              "    }\n",
              "\n",
              "    .dataframe thead th {\n",
              "        text-align: right;\n",
              "    }\n",
              "</style>\n",
              "<table border=\"1\" class=\"dataframe\">\n",
              "  <thead>\n",
              "    <tr style=\"text-align: right;\">\n",
              "      <th></th>\n",
              "      <th>LotArea</th>\n",
              "      <th>OverallQual</th>\n",
              "      <th>OverallCond</th>\n",
              "      <th>TotalBsmtSF</th>\n",
              "      <th>FullBath</th>\n",
              "      <th>HalfBath</th>\n",
              "      <th>BedroomAbvGr</th>\n",
              "      <th>TotRmsAbvGrd</th>\n",
              "      <th>Fireplaces</th>\n",
              "      <th>GarageArea</th>\n",
              "      <th>AboveMedianPrice</th>\n",
              "    </tr>\n",
              "  </thead>\n",
              "  <tbody>\n",
              "    <tr>\n",
              "      <th>0</th>\n",
              "      <td>8450</td>\n",
              "      <td>7</td>\n",
              "      <td>5</td>\n",
              "      <td>856</td>\n",
              "      <td>2</td>\n",
              "      <td>1</td>\n",
              "      <td>3</td>\n",
              "      <td>8</td>\n",
              "      <td>0</td>\n",
              "      <td>548</td>\n",
              "      <td>1</td>\n",
              "    </tr>\n",
              "    <tr>\n",
              "      <th>1</th>\n",
              "      <td>9600</td>\n",
              "      <td>6</td>\n",
              "      <td>8</td>\n",
              "      <td>1262</td>\n",
              "      <td>2</td>\n",
              "      <td>0</td>\n",
              "      <td>3</td>\n",
              "      <td>6</td>\n",
              "      <td>1</td>\n",
              "      <td>460</td>\n",
              "      <td>1</td>\n",
              "    </tr>\n",
              "    <tr>\n",
              "      <th>2</th>\n",
              "      <td>11250</td>\n",
              "      <td>7</td>\n",
              "      <td>5</td>\n",
              "      <td>920</td>\n",
              "      <td>2</td>\n",
              "      <td>1</td>\n",
              "      <td>3</td>\n",
              "      <td>6</td>\n",
              "      <td>1</td>\n",
              "      <td>608</td>\n",
              "      <td>1</td>\n",
              "    </tr>\n",
              "    <tr>\n",
              "      <th>3</th>\n",
              "      <td>9550</td>\n",
              "      <td>7</td>\n",
              "      <td>5</td>\n",
              "      <td>756</td>\n",
              "      <td>1</td>\n",
              "      <td>0</td>\n",
              "      <td>3</td>\n",
              "      <td>7</td>\n",
              "      <td>1</td>\n",
              "      <td>642</td>\n",
              "      <td>0</td>\n",
              "    </tr>\n",
              "    <tr>\n",
              "      <th>4</th>\n",
              "      <td>14260</td>\n",
              "      <td>8</td>\n",
              "      <td>5</td>\n",
              "      <td>1145</td>\n",
              "      <td>2</td>\n",
              "      <td>1</td>\n",
              "      <td>4</td>\n",
              "      <td>9</td>\n",
              "      <td>1</td>\n",
              "      <td>836</td>\n",
              "      <td>1</td>\n",
              "    </tr>\n",
              "    <tr>\n",
              "      <th>...</th>\n",
              "      <td>...</td>\n",
              "      <td>...</td>\n",
              "      <td>...</td>\n",
              "      <td>...</td>\n",
              "      <td>...</td>\n",
              "      <td>...</td>\n",
              "      <td>...</td>\n",
              "      <td>...</td>\n",
              "      <td>...</td>\n",
              "      <td>...</td>\n",
              "      <td>...</td>\n",
              "    </tr>\n",
              "    <tr>\n",
              "      <th>1455</th>\n",
              "      <td>7917</td>\n",
              "      <td>6</td>\n",
              "      <td>5</td>\n",
              "      <td>953</td>\n",
              "      <td>2</td>\n",
              "      <td>1</td>\n",
              "      <td>3</td>\n",
              "      <td>7</td>\n",
              "      <td>1</td>\n",
              "      <td>460</td>\n",
              "      <td>1</td>\n",
              "    </tr>\n",
              "    <tr>\n",
              "      <th>1456</th>\n",
              "      <td>13175</td>\n",
              "      <td>6</td>\n",
              "      <td>6</td>\n",
              "      <td>1542</td>\n",
              "      <td>2</td>\n",
              "      <td>0</td>\n",
              "      <td>3</td>\n",
              "      <td>7</td>\n",
              "      <td>2</td>\n",
              "      <td>500</td>\n",
              "      <td>1</td>\n",
              "    </tr>\n",
              "    <tr>\n",
              "      <th>1457</th>\n",
              "      <td>9042</td>\n",
              "      <td>7</td>\n",
              "      <td>9</td>\n",
              "      <td>1152</td>\n",
              "      <td>2</td>\n",
              "      <td>0</td>\n",
              "      <td>4</td>\n",
              "      <td>9</td>\n",
              "      <td>2</td>\n",
              "      <td>252</td>\n",
              "      <td>1</td>\n",
              "    </tr>\n",
              "    <tr>\n",
              "      <th>1458</th>\n",
              "      <td>9717</td>\n",
              "      <td>5</td>\n",
              "      <td>6</td>\n",
              "      <td>1078</td>\n",
              "      <td>1</td>\n",
              "      <td>0</td>\n",
              "      <td>2</td>\n",
              "      <td>5</td>\n",
              "      <td>0</td>\n",
              "      <td>240</td>\n",
              "      <td>0</td>\n",
              "    </tr>\n",
              "    <tr>\n",
              "      <th>1459</th>\n",
              "      <td>9937</td>\n",
              "      <td>5</td>\n",
              "      <td>6</td>\n",
              "      <td>1256</td>\n",
              "      <td>1</td>\n",
              "      <td>1</td>\n",
              "      <td>3</td>\n",
              "      <td>6</td>\n",
              "      <td>0</td>\n",
              "      <td>276</td>\n",
              "      <td>0</td>\n",
              "    </tr>\n",
              "  </tbody>\n",
              "</table>\n",
              "<p>1460 rows × 11 columns</p>\n",
              "</div>"
            ],
            "text/plain": [
              "      LotArea  OverallQual  ...  GarageArea  AboveMedianPrice\n",
              "0        8450            7  ...         548                 1\n",
              "1        9600            6  ...         460                 1\n",
              "2       11250            7  ...         608                 1\n",
              "3        9550            7  ...         642                 0\n",
              "4       14260            8  ...         836                 1\n",
              "...       ...          ...  ...         ...               ...\n",
              "1455     7917            6  ...         460                 1\n",
              "1456    13175            6  ...         500                 1\n",
              "1457     9042            7  ...         252                 1\n",
              "1458     9717            5  ...         240                 0\n",
              "1459     9937            5  ...         276                 0\n",
              "\n",
              "[1460 rows x 11 columns]"
            ]
          },
          "metadata": {
            "tags": []
          },
          "execution_count": 7
        }
      ]
    },
    {
      "cell_type": "markdown",
      "metadata": {
        "id": "ks3T4D2wwjMO"
      },
      "source": [
        "#Converting dataset into an array"
      ]
    },
    {
      "cell_type": "code",
      "metadata": {
        "id": "5evkb--Duc30"
      },
      "source": [
        "dataset=data.values"
      ],
      "execution_count": 8,
      "outputs": []
    },
    {
      "cell_type": "code",
      "metadata": {
        "colab": {
          "base_uri": "https://localhost:8080/"
        },
        "id": "fyoA3yUFulbG",
        "outputId": "4aae0fd8-e10f-4afd-94b0-8319b780b75c"
      },
      "source": [
        "dataset"
      ],
      "execution_count": 9,
      "outputs": [
        {
          "output_type": "execute_result",
          "data": {
            "text/plain": [
              "array([[ 8450,     7,     5, ...,     0,   548,     1],\n",
              "       [ 9600,     6,     8, ...,     1,   460,     1],\n",
              "       [11250,     7,     5, ...,     1,   608,     1],\n",
              "       ...,\n",
              "       [ 9042,     7,     9, ...,     2,   252,     1],\n",
              "       [ 9717,     5,     6, ...,     0,   240,     0],\n",
              "       [ 9937,     5,     6, ...,     0,   276,     0]])"
            ]
          },
          "metadata": {
            "tags": []
          },
          "execution_count": 9
        }
      ]
    },
    {
      "cell_type": "markdown",
      "metadata": {
        "id": "IzR47iYIw6um"
      },
      "source": [
        "#Normalizing data"
      ]
    },
    {
      "cell_type": "code",
      "metadata": {
        "id": "wpAY8S3Aum6t"
      },
      "source": [
        "X = dataset[:,0:10]\r\n",
        "Y = dataset[:,10]"
      ],
      "execution_count": 10,
      "outputs": []
    },
    {
      "cell_type": "code",
      "metadata": {
        "id": "mEXGdGmnut9k"
      },
      "source": [
        "min_max_scaler = preprocessing.MinMaxScaler()\r\n",
        "X_scale = min_max_scaler.fit_transform(X)"
      ],
      "execution_count": 12,
      "outputs": []
    },
    {
      "cell_type": "code",
      "metadata": {
        "colab": {
          "base_uri": "https://localhost:8080/"
        },
        "id": "HsW27aqTu0q_",
        "outputId": "9e65aaa3-911f-43dc-8467-113e2fd25107"
      },
      "source": [
        "X_scale\r\n"
      ],
      "execution_count": 13,
      "outputs": [
        {
          "output_type": "execute_result",
          "data": {
            "text/plain": [
              "array([[0.0334198 , 0.66666667, 0.5       , ..., 0.5       , 0.        ,\n",
              "        0.3864598 ],\n",
              "       [0.03879502, 0.55555556, 0.875     , ..., 0.33333333, 0.33333333,\n",
              "        0.32440056],\n",
              "       [0.04650728, 0.66666667, 0.5       , ..., 0.33333333, 0.33333333,\n",
              "        0.42877292],\n",
              "       ...,\n",
              "       [0.03618687, 0.66666667, 1.        , ..., 0.58333333, 0.66666667,\n",
              "        0.17771509],\n",
              "       [0.03934189, 0.44444444, 0.625     , ..., 0.25      , 0.        ,\n",
              "        0.16925247],\n",
              "       [0.04037019, 0.44444444, 0.625     , ..., 0.33333333, 0.        ,\n",
              "        0.19464034]])"
            ]
          },
          "metadata": {
            "tags": []
          },
          "execution_count": 13
        }
      ]
    },
    {
      "cell_type": "markdown",
      "metadata": {
        "id": "AqOAhsY1w_PX"
      },
      "source": [
        "#Splitting data"
      ]
    },
    {
      "cell_type": "code",
      "metadata": {
        "id": "9xZMVibOu_9m"
      },
      "source": [
        "X_train, X_val_and_test, Y_train, Y_val_and_test = train_test_split(X_scale, Y, test_size=0.3)\r\n"
      ],
      "execution_count": 15,
      "outputs": []
    },
    {
      "cell_type": "code",
      "metadata": {
        "id": "ct7FuuPivFwd"
      },
      "source": [
        "X_val, X_test, Y_val, Y_test = train_test_split(X_val_and_test, Y_val_and_test, test_size=0.5)\r\n"
      ],
      "execution_count": 16,
      "outputs": []
    },
    {
      "cell_type": "code",
      "metadata": {
        "colab": {
          "base_uri": "https://localhost:8080/"
        },
        "id": "zl7iMkvYvJN8",
        "outputId": "0eb678ad-2890-401d-b2c0-c31c0d365223"
      },
      "source": [
        "print(X_train.shape, X_val.shape, X_test.shape, Y_train.shape, Y_val.shape, Y_test.shape)\r\n"
      ],
      "execution_count": 17,
      "outputs": [
        {
          "output_type": "stream",
          "text": [
            "(1022, 10) (219, 10) (219, 10) (1022,) (219,) (219,)\n"
          ],
          "name": "stdout"
        }
      ]
    },
    {
      "cell_type": "markdown",
      "metadata": {
        "id": "V0SE6XVVxA3Q"
      },
      "source": [
        "#Model 1"
      ]
    },
    {
      "cell_type": "code",
      "metadata": {
        "id": "oFSI3ywSvOwF"
      },
      "source": [
        "from keras.models import Sequential\r\n",
        "from keras.layers import Dense\r\n",
        "model = Sequential([\r\n",
        "    Dense(32, activation='relu', input_shape=(10,)),\r\n",
        "    Dense(32, activation='relu'),\r\n",
        "    Dense(1, activation='sigmoid'),\r\n",
        "])\r\n",
        "model.compile(optimizer='sgd',\r\n",
        "              loss='binary_crossentropy',\r\n",
        "              metrics=['accuracy'])"
      ],
      "execution_count": 18,
      "outputs": []
    },
    {
      "cell_type": "code",
      "metadata": {
        "colab": {
          "base_uri": "https://localhost:8080/"
        },
        "id": "6TgpTd3LvTXl",
        "outputId": "86ef4a1a-a5b9-4f01-ef1f-e5ef9b10660f"
      },
      "source": [
        "history = model.fit(X_train, Y_train, batch_size=32, epochs=100, validation_data=(X_val, Y_val))"
      ],
      "execution_count": 19,
      "outputs": [
        {
          "output_type": "stream",
          "text": [
            "Epoch 1/100\n",
            "32/32 [==============================] - 1s 14ms/step - loss: 0.6942 - accuracy: 0.4249 - val_loss: 0.6902 - val_accuracy: 0.4840\n",
            "Epoch 2/100\n",
            "32/32 [==============================] - 0s 3ms/step - loss: 0.6864 - accuracy: 0.4958 - val_loss: 0.6841 - val_accuracy: 0.4795\n",
            "Epoch 3/100\n",
            "32/32 [==============================] - 0s 2ms/step - loss: 0.6785 - accuracy: 0.5152 - val_loss: 0.6789 - val_accuracy: 0.4795\n",
            "Epoch 4/100\n",
            "32/32 [==============================] - 0s 3ms/step - loss: 0.6720 - accuracy: 0.5124 - val_loss: 0.6739 - val_accuracy: 0.4932\n",
            "Epoch 5/100\n",
            "32/32 [==============================] - 0s 3ms/step - loss: 0.6672 - accuracy: 0.5273 - val_loss: 0.6692 - val_accuracy: 0.5068\n",
            "Epoch 6/100\n",
            "32/32 [==============================] - 0s 3ms/step - loss: 0.6592 - accuracy: 0.5593 - val_loss: 0.6643 - val_accuracy: 0.5616\n",
            "Epoch 7/100\n",
            "32/32 [==============================] - 0s 2ms/step - loss: 0.6581 - accuracy: 0.5896 - val_loss: 0.6595 - val_accuracy: 0.6073\n",
            "Epoch 8/100\n",
            "32/32 [==============================] - 0s 2ms/step - loss: 0.6483 - accuracy: 0.6146 - val_loss: 0.6544 - val_accuracy: 0.6393\n",
            "Epoch 9/100\n",
            "32/32 [==============================] - 0s 2ms/step - loss: 0.6476 - accuracy: 0.6627 - val_loss: 0.6495 - val_accuracy: 0.6530\n",
            "Epoch 10/100\n",
            "32/32 [==============================] - 0s 2ms/step - loss: 0.6430 - accuracy: 0.6748 - val_loss: 0.6447 - val_accuracy: 0.6575\n",
            "Epoch 11/100\n",
            "32/32 [==============================] - 0s 3ms/step - loss: 0.6372 - accuracy: 0.6937 - val_loss: 0.6395 - val_accuracy: 0.6941\n",
            "Epoch 12/100\n",
            "32/32 [==============================] - 0s 3ms/step - loss: 0.6258 - accuracy: 0.7187 - val_loss: 0.6342 - val_accuracy: 0.7078\n",
            "Epoch 13/100\n",
            "32/32 [==============================] - 0s 3ms/step - loss: 0.6206 - accuracy: 0.7281 - val_loss: 0.6287 - val_accuracy: 0.7443\n",
            "Epoch 14/100\n",
            "32/32 [==============================] - 0s 3ms/step - loss: 0.6105 - accuracy: 0.7650 - val_loss: 0.6228 - val_accuracy: 0.7534\n",
            "Epoch 15/100\n",
            "32/32 [==============================] - 0s 3ms/step - loss: 0.6109 - accuracy: 0.7640 - val_loss: 0.6171 - val_accuracy: 0.7534\n",
            "Epoch 16/100\n",
            "32/32 [==============================] - 0s 3ms/step - loss: 0.6013 - accuracy: 0.7729 - val_loss: 0.6112 - val_accuracy: 0.7534\n",
            "Epoch 17/100\n",
            "32/32 [==============================] - 0s 3ms/step - loss: 0.5989 - accuracy: 0.7569 - val_loss: 0.6050 - val_accuracy: 0.7534\n",
            "Epoch 18/100\n",
            "32/32 [==============================] - 0s 3ms/step - loss: 0.5849 - accuracy: 0.7651 - val_loss: 0.5980 - val_accuracy: 0.7580\n",
            "Epoch 19/100\n",
            "32/32 [==============================] - 0s 3ms/step - loss: 0.5758 - accuracy: 0.7938 - val_loss: 0.5910 - val_accuracy: 0.7717\n",
            "Epoch 20/100\n",
            "32/32 [==============================] - 0s 3ms/step - loss: 0.5763 - accuracy: 0.7988 - val_loss: 0.5841 - val_accuracy: 0.7671\n",
            "Epoch 21/100\n",
            "32/32 [==============================] - 0s 3ms/step - loss: 0.5645 - accuracy: 0.8005 - val_loss: 0.5768 - val_accuracy: 0.7717\n",
            "Epoch 22/100\n",
            "32/32 [==============================] - 0s 3ms/step - loss: 0.5620 - accuracy: 0.8104 - val_loss: 0.5697 - val_accuracy: 0.7808\n",
            "Epoch 23/100\n",
            "32/32 [==============================] - 0s 3ms/step - loss: 0.5536 - accuracy: 0.8108 - val_loss: 0.5622 - val_accuracy: 0.7854\n",
            "Epoch 24/100\n",
            "32/32 [==============================] - 0s 2ms/step - loss: 0.5455 - accuracy: 0.8323 - val_loss: 0.5544 - val_accuracy: 0.7854\n",
            "Epoch 25/100\n",
            "32/32 [==============================] - 0s 3ms/step - loss: 0.5342 - accuracy: 0.8169 - val_loss: 0.5463 - val_accuracy: 0.7945\n",
            "Epoch 26/100\n",
            "32/32 [==============================] - 0s 3ms/step - loss: 0.5273 - accuracy: 0.8220 - val_loss: 0.5378 - val_accuracy: 0.8082\n",
            "Epoch 27/100\n",
            "32/32 [==============================] - 0s 2ms/step - loss: 0.5139 - accuracy: 0.8452 - val_loss: 0.5297 - val_accuracy: 0.8174\n",
            "Epoch 28/100\n",
            "32/32 [==============================] - 0s 3ms/step - loss: 0.4954 - accuracy: 0.8676 - val_loss: 0.5217 - val_accuracy: 0.8219\n",
            "Epoch 29/100\n",
            "32/32 [==============================] - 0s 3ms/step - loss: 0.4953 - accuracy: 0.8450 - val_loss: 0.5145 - val_accuracy: 0.8219\n",
            "Epoch 30/100\n",
            "32/32 [==============================] - 0s 3ms/step - loss: 0.4917 - accuracy: 0.8312 - val_loss: 0.5062 - val_accuracy: 0.8219\n",
            "Epoch 31/100\n",
            "32/32 [==============================] - 0s 2ms/step - loss: 0.4840 - accuracy: 0.8366 - val_loss: 0.4988 - val_accuracy: 0.8219\n",
            "Epoch 32/100\n",
            "32/32 [==============================] - 0s 2ms/step - loss: 0.4770 - accuracy: 0.8412 - val_loss: 0.4917 - val_accuracy: 0.8219\n",
            "Epoch 33/100\n",
            "32/32 [==============================] - 0s 3ms/step - loss: 0.4620 - accuracy: 0.8561 - val_loss: 0.4845 - val_accuracy: 0.8219\n",
            "Epoch 34/100\n",
            "32/32 [==============================] - 0s 3ms/step - loss: 0.4596 - accuracy: 0.8518 - val_loss: 0.4766 - val_accuracy: 0.8174\n",
            "Epoch 35/100\n",
            "32/32 [==============================] - 0s 3ms/step - loss: 0.4458 - accuracy: 0.8564 - val_loss: 0.4700 - val_accuracy: 0.8128\n",
            "Epoch 36/100\n",
            "32/32 [==============================] - 0s 3ms/step - loss: 0.4370 - accuracy: 0.8529 - val_loss: 0.4634 - val_accuracy: 0.8128\n",
            "Epoch 37/100\n",
            "32/32 [==============================] - 0s 3ms/step - loss: 0.4316 - accuracy: 0.8516 - val_loss: 0.4569 - val_accuracy: 0.8082\n",
            "Epoch 38/100\n",
            "32/32 [==============================] - 0s 3ms/step - loss: 0.4369 - accuracy: 0.8476 - val_loss: 0.4499 - val_accuracy: 0.7991\n",
            "Epoch 39/100\n",
            "32/32 [==============================] - 0s 2ms/step - loss: 0.4295 - accuracy: 0.8577 - val_loss: 0.4450 - val_accuracy: 0.8037\n",
            "Epoch 40/100\n",
            "32/32 [==============================] - 0s 2ms/step - loss: 0.4308 - accuracy: 0.8550 - val_loss: 0.4397 - val_accuracy: 0.8037\n",
            "Epoch 41/100\n",
            "32/32 [==============================] - 0s 2ms/step - loss: 0.3934 - accuracy: 0.8810 - val_loss: 0.4329 - val_accuracy: 0.8082\n",
            "Epoch 42/100\n",
            "32/32 [==============================] - 0s 3ms/step - loss: 0.4042 - accuracy: 0.8770 - val_loss: 0.4276 - val_accuracy: 0.8082\n",
            "Epoch 43/100\n",
            "32/32 [==============================] - 0s 3ms/step - loss: 0.4026 - accuracy: 0.8674 - val_loss: 0.4231 - val_accuracy: 0.8082\n",
            "Epoch 44/100\n",
            "32/32 [==============================] - 0s 3ms/step - loss: 0.3792 - accuracy: 0.8774 - val_loss: 0.4189 - val_accuracy: 0.8082\n",
            "Epoch 45/100\n",
            "32/32 [==============================] - 0s 3ms/step - loss: 0.3982 - accuracy: 0.8641 - val_loss: 0.4174 - val_accuracy: 0.8128\n",
            "Epoch 46/100\n",
            "32/32 [==============================] - 0s 3ms/step - loss: 0.3760 - accuracy: 0.8759 - val_loss: 0.4106 - val_accuracy: 0.8082\n",
            "Epoch 47/100\n",
            "32/32 [==============================] - 0s 3ms/step - loss: 0.3685 - accuracy: 0.8794 - val_loss: 0.4061 - val_accuracy: 0.8082\n",
            "Epoch 48/100\n",
            "32/32 [==============================] - 0s 2ms/step - loss: 0.3805 - accuracy: 0.8602 - val_loss: 0.4035 - val_accuracy: 0.8082\n",
            "Epoch 49/100\n",
            "32/32 [==============================] - 0s 3ms/step - loss: 0.3668 - accuracy: 0.8798 - val_loss: 0.4002 - val_accuracy: 0.8082\n",
            "Epoch 50/100\n",
            "32/32 [==============================] - 0s 2ms/step - loss: 0.3776 - accuracy: 0.8623 - val_loss: 0.3962 - val_accuracy: 0.8082\n",
            "Epoch 51/100\n",
            "32/32 [==============================] - 0s 3ms/step - loss: 0.3701 - accuracy: 0.8702 - val_loss: 0.3917 - val_accuracy: 0.8219\n",
            "Epoch 52/100\n",
            "32/32 [==============================] - 0s 3ms/step - loss: 0.3636 - accuracy: 0.8659 - val_loss: 0.3890 - val_accuracy: 0.8219\n",
            "Epoch 53/100\n",
            "32/32 [==============================] - 0s 2ms/step - loss: 0.3526 - accuracy: 0.8780 - val_loss: 0.3874 - val_accuracy: 0.8174\n",
            "Epoch 54/100\n",
            "32/32 [==============================] - 0s 3ms/step - loss: 0.3435 - accuracy: 0.8746 - val_loss: 0.3839 - val_accuracy: 0.8174\n",
            "Epoch 55/100\n",
            "32/32 [==============================] - 0s 3ms/step - loss: 0.3409 - accuracy: 0.8862 - val_loss: 0.3816 - val_accuracy: 0.8174\n",
            "Epoch 56/100\n",
            "32/32 [==============================] - 0s 3ms/step - loss: 0.3370 - accuracy: 0.8881 - val_loss: 0.3783 - val_accuracy: 0.8219\n",
            "Epoch 57/100\n",
            "32/32 [==============================] - 0s 3ms/step - loss: 0.3320 - accuracy: 0.8782 - val_loss: 0.3779 - val_accuracy: 0.8174\n",
            "Epoch 58/100\n",
            "32/32 [==============================] - 0s 2ms/step - loss: 0.3329 - accuracy: 0.8788 - val_loss: 0.3745 - val_accuracy: 0.8219\n",
            "Epoch 59/100\n",
            "32/32 [==============================] - 0s 2ms/step - loss: 0.3626 - accuracy: 0.8650 - val_loss: 0.3752 - val_accuracy: 0.8174\n",
            "Epoch 60/100\n",
            "32/32 [==============================] - 0s 3ms/step - loss: 0.3460 - accuracy: 0.8662 - val_loss: 0.3714 - val_accuracy: 0.8174\n",
            "Epoch 61/100\n",
            "32/32 [==============================] - 0s 3ms/step - loss: 0.3515 - accuracy: 0.8675 - val_loss: 0.3721 - val_accuracy: 0.8174\n",
            "Epoch 62/100\n",
            "32/32 [==============================] - 0s 2ms/step - loss: 0.3452 - accuracy: 0.8659 - val_loss: 0.3659 - val_accuracy: 0.8219\n",
            "Epoch 63/100\n",
            "32/32 [==============================] - 0s 3ms/step - loss: 0.3168 - accuracy: 0.8764 - val_loss: 0.3655 - val_accuracy: 0.8265\n",
            "Epoch 64/100\n",
            "32/32 [==============================] - 0s 3ms/step - loss: 0.3500 - accuracy: 0.8701 - val_loss: 0.3653 - val_accuracy: 0.8174\n",
            "Epoch 65/100\n",
            "32/32 [==============================] - 0s 3ms/step - loss: 0.3432 - accuracy: 0.8760 - val_loss: 0.3632 - val_accuracy: 0.8219\n",
            "Epoch 66/100\n",
            "32/32 [==============================] - 0s 3ms/step - loss: 0.3287 - accuracy: 0.8769 - val_loss: 0.3617 - val_accuracy: 0.8219\n",
            "Epoch 67/100\n",
            "32/32 [==============================] - 0s 2ms/step - loss: 0.3336 - accuracy: 0.8812 - val_loss: 0.3605 - val_accuracy: 0.8219\n",
            "Epoch 68/100\n",
            "32/32 [==============================] - 0s 3ms/step - loss: 0.3172 - accuracy: 0.8799 - val_loss: 0.3589 - val_accuracy: 0.8174\n",
            "Epoch 69/100\n",
            "32/32 [==============================] - 0s 3ms/step - loss: 0.3392 - accuracy: 0.8637 - val_loss: 0.3566 - val_accuracy: 0.8265\n",
            "Epoch 70/100\n",
            "32/32 [==============================] - 0s 3ms/step - loss: 0.3211 - accuracy: 0.8798 - val_loss: 0.3581 - val_accuracy: 0.8219\n",
            "Epoch 71/100\n",
            "32/32 [==============================] - 0s 2ms/step - loss: 0.3326 - accuracy: 0.8691 - val_loss: 0.3589 - val_accuracy: 0.8174\n",
            "Epoch 72/100\n",
            "32/32 [==============================] - 0s 3ms/step - loss: 0.3024 - accuracy: 0.8916 - val_loss: 0.3538 - val_accuracy: 0.8265\n",
            "Epoch 73/100\n",
            "32/32 [==============================] - 0s 3ms/step - loss: 0.3331 - accuracy: 0.8726 - val_loss: 0.3533 - val_accuracy: 0.8174\n",
            "Epoch 74/100\n",
            "32/32 [==============================] - 0s 2ms/step - loss: 0.3063 - accuracy: 0.8811 - val_loss: 0.3518 - val_accuracy: 0.8219\n",
            "Epoch 75/100\n",
            "32/32 [==============================] - 0s 3ms/step - loss: 0.3242 - accuracy: 0.8804 - val_loss: 0.3528 - val_accuracy: 0.8174\n",
            "Epoch 76/100\n",
            "32/32 [==============================] - 0s 3ms/step - loss: 0.3153 - accuracy: 0.8724 - val_loss: 0.3537 - val_accuracy: 0.8219\n",
            "Epoch 77/100\n",
            "32/32 [==============================] - 0s 3ms/step - loss: 0.3198 - accuracy: 0.8910 - val_loss: 0.3484 - val_accuracy: 0.8356\n",
            "Epoch 78/100\n",
            "32/32 [==============================] - 0s 2ms/step - loss: 0.3009 - accuracy: 0.8826 - val_loss: 0.3478 - val_accuracy: 0.8311\n",
            "Epoch 79/100\n",
            "32/32 [==============================] - 0s 2ms/step - loss: 0.3358 - accuracy: 0.8664 - val_loss: 0.3496 - val_accuracy: 0.8174\n",
            "Epoch 80/100\n",
            "32/32 [==============================] - 0s 2ms/step - loss: 0.2992 - accuracy: 0.8807 - val_loss: 0.3476 - val_accuracy: 0.8219\n",
            "Epoch 81/100\n",
            "32/32 [==============================] - 0s 3ms/step - loss: 0.3099 - accuracy: 0.8811 - val_loss: 0.3432 - val_accuracy: 0.8402\n",
            "Epoch 82/100\n",
            "32/32 [==============================] - 0s 2ms/step - loss: 0.3137 - accuracy: 0.8779 - val_loss: 0.3470 - val_accuracy: 0.8174\n",
            "Epoch 83/100\n",
            "32/32 [==============================] - 0s 2ms/step - loss: 0.2881 - accuracy: 0.8915 - val_loss: 0.3418 - val_accuracy: 0.8402\n",
            "Epoch 84/100\n",
            "32/32 [==============================] - 0s 3ms/step - loss: 0.2890 - accuracy: 0.8939 - val_loss: 0.3429 - val_accuracy: 0.8311\n",
            "Epoch 85/100\n",
            "32/32 [==============================] - 0s 3ms/step - loss: 0.3371 - accuracy: 0.8710 - val_loss: 0.3415 - val_accuracy: 0.8356\n",
            "Epoch 86/100\n",
            "32/32 [==============================] - 0s 3ms/step - loss: 0.3277 - accuracy: 0.8693 - val_loss: 0.3434 - val_accuracy: 0.8265\n",
            "Epoch 87/100\n",
            "32/32 [==============================] - 0s 3ms/step - loss: 0.2920 - accuracy: 0.8892 - val_loss: 0.3393 - val_accuracy: 0.8356\n",
            "Epoch 88/100\n",
            "32/32 [==============================] - 0s 3ms/step - loss: 0.3173 - accuracy: 0.8786 - val_loss: 0.3381 - val_accuracy: 0.8447\n",
            "Epoch 89/100\n",
            "32/32 [==============================] - 0s 3ms/step - loss: 0.2959 - accuracy: 0.8882 - val_loss: 0.3388 - val_accuracy: 0.8356\n",
            "Epoch 90/100\n",
            "32/32 [==============================] - 0s 3ms/step - loss: 0.3314 - accuracy: 0.8671 - val_loss: 0.3406 - val_accuracy: 0.8265\n",
            "Epoch 91/100\n",
            "32/32 [==============================] - 0s 2ms/step - loss: 0.3156 - accuracy: 0.8781 - val_loss: 0.3383 - val_accuracy: 0.8311\n",
            "Epoch 92/100\n",
            "32/32 [==============================] - 0s 2ms/step - loss: 0.2936 - accuracy: 0.8804 - val_loss: 0.3383 - val_accuracy: 0.8265\n",
            "Epoch 93/100\n",
            "32/32 [==============================] - 0s 3ms/step - loss: 0.2991 - accuracy: 0.8886 - val_loss: 0.3365 - val_accuracy: 0.8402\n",
            "Epoch 94/100\n",
            "32/32 [==============================] - 0s 2ms/step - loss: 0.3068 - accuracy: 0.8779 - val_loss: 0.3354 - val_accuracy: 0.8402\n",
            "Epoch 95/100\n",
            "32/32 [==============================] - 0s 3ms/step - loss: 0.2920 - accuracy: 0.8800 - val_loss: 0.3355 - val_accuracy: 0.8402\n",
            "Epoch 96/100\n",
            "32/32 [==============================] - 0s 3ms/step - loss: 0.2789 - accuracy: 0.8757 - val_loss: 0.3364 - val_accuracy: 0.8265\n",
            "Epoch 97/100\n",
            "32/32 [==============================] - 0s 2ms/step - loss: 0.2781 - accuracy: 0.8902 - val_loss: 0.3321 - val_accuracy: 0.8402\n",
            "Epoch 98/100\n",
            "32/32 [==============================] - 0s 3ms/step - loss: 0.3031 - accuracy: 0.8802 - val_loss: 0.3360 - val_accuracy: 0.8265\n",
            "Epoch 99/100\n",
            "32/32 [==============================] - 0s 3ms/step - loss: 0.3044 - accuracy: 0.8790 - val_loss: 0.3337 - val_accuracy: 0.8311\n",
            "Epoch 100/100\n",
            "32/32 [==============================] - 0s 3ms/step - loss: 0.3065 - accuracy: 0.8792 - val_loss: 0.3291 - val_accuracy: 0.8402\n"
          ],
          "name": "stdout"
        }
      ]
    },
    {
      "cell_type": "code",
      "metadata": {
        "colab": {
          "base_uri": "https://localhost:8080/"
        },
        "id": "ZbeD-gzHvbwt",
        "outputId": "6e31d1aa-c689-4378-9b25-7b5b6646fbaa"
      },
      "source": [
        "model.evaluate(X_test, Y_test)[1]"
      ],
      "execution_count": 20,
      "outputs": [
        {
          "output_type": "stream",
          "text": [
            "7/7 [==============================] - 0s 2ms/step - loss: 0.2398 - accuracy: 0.9224\n"
          ],
          "name": "stdout"
        },
        {
          "output_type": "execute_result",
          "data": {
            "text/plain": [
              "0.922374427318573"
            ]
          },
          "metadata": {
            "tags": []
          },
          "execution_count": 20
        }
      ]
    },
    {
      "cell_type": "code",
      "metadata": {
        "colab": {
          "base_uri": "https://localhost:8080/",
          "height": 294
        },
        "id": "D4Q2U6NlveK1",
        "outputId": "1c3b3314-9eee-49b2-fcfe-5067ae5c3bbb"
      },
      "source": [
        "import matplotlib.pyplot as plt\r\n",
        "plt.plot(history.history['loss'])\r\n",
        "plt.plot(history.history['val_loss'])\r\n",
        "plt.title('Model loss')\r\n",
        "plt.ylabel('Loss')\r\n",
        "plt.xlabel('Epoch')\r\n",
        "plt.legend(['Train', 'Val'], loc='upper right')\r\n",
        "plt.show()"
      ],
      "execution_count": 22,
      "outputs": [
        {
          "output_type": "display_data",
          "data": {
            "image/png": "[encoded data removed]",
            "text/plain": [
              "<Figure size 432x288 with 1 Axes>"
            ]
          },
          "metadata": {
            "tags": [],
            "needs_background": "light"
          }
        }
      ]
    },
    {
      "cell_type": "code",
      "metadata": {
        "colab": {
          "base_uri": "https://localhost:8080/",
          "height": 294
        },
        "id": "jQsVLOtQvhEF",
        "outputId": "9a27c085-ba8f-4ea9-80f5-e5736b810ca0"
      },
      "source": [
        "plt.plot(history.history['accuracy'])\r\n",
        "plt.plot(history.history['val_accuracy'])\r\n",
        "plt.title('Model accuracy')\r\n",
        "plt.ylabel('Accuracy')\r\n",
        "plt.xlabel('Epoch')\r\n",
        "plt.legend(['Train', 'Val'], loc='lower right')\r\n",
        "plt.show()"
      ],
      "execution_count": 26,
      "outputs": [
        {
          "output_type": "display_data",
          "data": {
            "image/png": "[encoded data removed]",
            "text/plain": [
              "<Figure size 432x288 with 1 Axes>"
            ]
          },
          "metadata": {
            "tags": [],
            "needs_background": "light"
          }
        }
      ]
    },
    {
      "cell_type": "markdown",
      "metadata": {
        "id": "uZP2MVb3xDnv"
      },
      "source": [
        "#Model 2: Adding Regularization to our Neural Network\r\n",
        "We will notice that by doing this it will badly overfit our model so in the next model we will try to reduce it."
      ]
    },
    {
      "cell_type": "code",
      "metadata": {
        "id": "yp8pk12xv9KO"
      },
      "source": [
        "model_2 = Sequential([\r\n",
        "    Dense(1000, activation='relu', input_shape=(10,)),\r\n",
        "    Dense(1000, activation='relu'),\r\n",
        "    Dense(1000, activation='relu'),\r\n",
        "    Dense(1000, activation='relu'),\r\n",
        "    Dense(1, activation='sigmoid'),\r\n",
        "])"
      ],
      "execution_count": 27,
      "outputs": []
    },
    {
      "cell_type": "code",
      "metadata": {
        "id": "wTHHOu9Yv-9_"
      },
      "source": [
        "model_2.compile(optimizer='adam',\r\n",
        "              loss='binary_crossentropy',\r\n",
        "              metrics=['accuracy'])"
      ],
      "execution_count": 28,
      "outputs": []
    },
    {
      "cell_type": "code",
      "metadata": {
        "colab": {
          "base_uri": "https://localhost:8080/"
        },
        "id": "Qi-xeM7mwA-A",
        "outputId": "ccd458fc-69f5-463a-c7e1-36f5e3932440"
      },
      "source": [
        "hist_2 = model_2.fit(X_train, Y_train,\r\n",
        "          batch_size=32, epochs=100,\r\n",
        "          validation_data=(X_val, Y_val))"
      ],
      "execution_count": 29,
      "outputs": [
        {
          "output_type": "stream",
          "text": [
            "Epoch 1/100\n",
            "32/32 [==============================] - 2s 44ms/step - loss: 0.5244 - accuracy: 0.7114 - val_loss: 0.3995 - val_accuracy: 0.8082\n",
            "Epoch 2/100\n",
            "32/32 [==============================] - 1s 40ms/step - loss: 0.3522 - accuracy: 0.8487 - val_loss: 0.3904 - val_accuracy: 0.8174\n",
            "Epoch 3/100\n",
            "32/32 [==============================] - 1s 38ms/step - loss: 0.3112 - accuracy: 0.8707 - val_loss: 0.2792 - val_accuracy: 0.8676\n",
            "Epoch 4/100\n",
            "32/32 [==============================] - 1s 36ms/step - loss: 0.2987 - accuracy: 0.8826 - val_loss: 0.2739 - val_accuracy: 0.8630\n",
            "Epoch 5/100\n",
            "32/32 [==============================] - 1s 37ms/step - loss: 0.2837 - accuracy: 0.8817 - val_loss: 0.2767 - val_accuracy: 0.8447\n",
            "Epoch 6/100\n",
            "32/32 [==============================] - 1s 36ms/step - loss: 0.2583 - accuracy: 0.8935 - val_loss: 0.3312 - val_accuracy: 0.8539\n",
            "Epoch 7/100\n",
            "32/32 [==============================] - 1s 36ms/step - loss: 0.2749 - accuracy: 0.8965 - val_loss: 0.2920 - val_accuracy: 0.8493\n",
            "Epoch 8/100\n",
            "32/32 [==============================] - 1s 36ms/step - loss: 0.2621 - accuracy: 0.8871 - val_loss: 0.2686 - val_accuracy: 0.8767\n",
            "Epoch 9/100\n",
            "32/32 [==============================] - 1s 36ms/step - loss: 0.2486 - accuracy: 0.9081 - val_loss: 0.3427 - val_accuracy: 0.8402\n",
            "Epoch 10/100\n",
            "32/32 [==============================] - 1s 36ms/step - loss: 0.2616 - accuracy: 0.9073 - val_loss: 0.2522 - val_accuracy: 0.8721\n",
            "Epoch 11/100\n",
            "32/32 [==============================] - 1s 37ms/step - loss: 0.2153 - accuracy: 0.9122 - val_loss: 0.3394 - val_accuracy: 0.8676\n",
            "Epoch 12/100\n",
            "32/32 [==============================] - 1s 37ms/step - loss: 0.2268 - accuracy: 0.9189 - val_loss: 0.2534 - val_accuracy: 0.8813\n",
            "Epoch 13/100\n",
            "32/32 [==============================] - 1s 36ms/step - loss: 0.2131 - accuracy: 0.9188 - val_loss: 0.3211 - val_accuracy: 0.8402\n",
            "Epoch 14/100\n",
            "32/32 [==============================] - 1s 37ms/step - loss: 0.2025 - accuracy: 0.9212 - val_loss: 0.2993 - val_accuracy: 0.8584\n",
            "Epoch 15/100\n",
            "32/32 [==============================] - 1s 37ms/step - loss: 0.2169 - accuracy: 0.9061 - val_loss: 0.2947 - val_accuracy: 0.8721\n",
            "Epoch 16/100\n",
            "32/32 [==============================] - 1s 37ms/step - loss: 0.2732 - accuracy: 0.8720 - val_loss: 0.2690 - val_accuracy: 0.8676\n",
            "Epoch 17/100\n",
            "32/32 [==============================] - 1s 37ms/step - loss: 0.2828 - accuracy: 0.8852 - val_loss: 0.3255 - val_accuracy: 0.8539\n",
            "Epoch 18/100\n",
            "32/32 [==============================] - 1s 37ms/step - loss: 0.1874 - accuracy: 0.9193 - val_loss: 0.3082 - val_accuracy: 0.8539\n",
            "Epoch 19/100\n",
            "32/32 [==============================] - 1s 37ms/step - loss: 0.2754 - accuracy: 0.9009 - val_loss: 0.2658 - val_accuracy: 0.8858\n",
            "Epoch 20/100\n",
            "32/32 [==============================] - 1s 37ms/step - loss: 0.2446 - accuracy: 0.8955 - val_loss: 0.3815 - val_accuracy: 0.8630\n",
            "Epoch 21/100\n",
            "32/32 [==============================] - 1s 39ms/step - loss: 0.2315 - accuracy: 0.9135 - val_loss: 0.2813 - val_accuracy: 0.8813\n",
            "Epoch 22/100\n",
            "32/32 [==============================] - 1s 38ms/step - loss: 0.2244 - accuracy: 0.9022 - val_loss: 0.2773 - val_accuracy: 0.8539\n",
            "Epoch 23/100\n",
            "32/32 [==============================] - 1s 39ms/step - loss: 0.2079 - accuracy: 0.9213 - val_loss: 0.3603 - val_accuracy: 0.8311\n",
            "Epoch 24/100\n",
            "32/32 [==============================] - 1s 39ms/step - loss: 0.2357 - accuracy: 0.9061 - val_loss: 0.3388 - val_accuracy: 0.8584\n",
            "Epoch 25/100\n",
            "32/32 [==============================] - 1s 39ms/step - loss: 0.2204 - accuracy: 0.9032 - val_loss: 0.3288 - val_accuracy: 0.8493\n",
            "Epoch 26/100\n",
            "32/32 [==============================] - 1s 39ms/step - loss: 0.1818 - accuracy: 0.9106 - val_loss: 0.3761 - val_accuracy: 0.8447\n",
            "Epoch 27/100\n",
            "32/32 [==============================] - 1s 39ms/step - loss: 0.2246 - accuracy: 0.8998 - val_loss: 0.2645 - val_accuracy: 0.8676\n",
            "Epoch 28/100\n",
            "32/32 [==============================] - 1s 39ms/step - loss: 0.2092 - accuracy: 0.9170 - val_loss: 0.2842 - val_accuracy: 0.8493\n",
            "Epoch 29/100\n",
            "32/32 [==============================] - 1s 40ms/step - loss: 0.2011 - accuracy: 0.9212 - val_loss: 0.3160 - val_accuracy: 0.8676\n",
            "Epoch 30/100\n",
            "32/32 [==============================] - 1s 40ms/step - loss: 0.1963 - accuracy: 0.9118 - val_loss: 0.3848 - val_accuracy: 0.8447\n",
            "Epoch 31/100\n",
            "32/32 [==============================] - 1s 39ms/step - loss: 0.1929 - accuracy: 0.9245 - val_loss: 0.3153 - val_accuracy: 0.8721\n",
            "Epoch 32/100\n",
            "32/32 [==============================] - 1s 39ms/step - loss: 0.1567 - accuracy: 0.9302 - val_loss: 0.3340 - val_accuracy: 0.8539\n",
            "Epoch 33/100\n",
            "32/32 [==============================] - 1s 39ms/step - loss: 0.2445 - accuracy: 0.9021 - val_loss: 0.3237 - val_accuracy: 0.8584\n",
            "Epoch 34/100\n",
            "32/32 [==============================] - 1s 38ms/step - loss: 0.2000 - accuracy: 0.9255 - val_loss: 0.3134 - val_accuracy: 0.8676\n",
            "Epoch 35/100\n",
            "32/32 [==============================] - 1s 39ms/step - loss: 0.1695 - accuracy: 0.9217 - val_loss: 0.2937 - val_accuracy: 0.8767\n",
            "Epoch 36/100\n",
            "32/32 [==============================] - 1s 39ms/step - loss: 0.1558 - accuracy: 0.9341 - val_loss: 0.2841 - val_accuracy: 0.8858\n",
            "Epoch 37/100\n",
            "32/32 [==============================] - 1s 40ms/step - loss: 0.2037 - accuracy: 0.9037 - val_loss: 0.3000 - val_accuracy: 0.8813\n",
            "Epoch 38/100\n",
            "32/32 [==============================] - 1s 40ms/step - loss: 0.1763 - accuracy: 0.9256 - val_loss: 0.3314 - val_accuracy: 0.8676\n",
            "Epoch 39/100\n",
            "32/32 [==============================] - 1s 37ms/step - loss: 0.1558 - accuracy: 0.9284 - val_loss: 0.2960 - val_accuracy: 0.8721\n",
            "Epoch 40/100\n",
            "32/32 [==============================] - 1s 37ms/step - loss: 0.1731 - accuracy: 0.9242 - val_loss: 0.2963 - val_accuracy: 0.8767\n",
            "Epoch 41/100\n",
            "32/32 [==============================] - 1s 38ms/step - loss: 0.1549 - accuracy: 0.9296 - val_loss: 0.3602 - val_accuracy: 0.8630\n",
            "Epoch 42/100\n",
            "32/32 [==============================] - 1s 36ms/step - loss: 0.1790 - accuracy: 0.9349 - val_loss: 0.3584 - val_accuracy: 0.8493\n",
            "Epoch 43/100\n",
            "32/32 [==============================] - 1s 37ms/step - loss: 0.1681 - accuracy: 0.9217 - val_loss: 0.4005 - val_accuracy: 0.8539\n",
            "Epoch 44/100\n",
            "32/32 [==============================] - 1s 37ms/step - loss: 0.1736 - accuracy: 0.9317 - val_loss: 0.4570 - val_accuracy: 0.8676\n",
            "Epoch 45/100\n",
            "32/32 [==============================] - 1s 37ms/step - loss: 0.1794 - accuracy: 0.9346 - val_loss: 0.3399 - val_accuracy: 0.8539\n",
            "Epoch 46/100\n",
            "32/32 [==============================] - 1s 37ms/step - loss: 0.1531 - accuracy: 0.9421 - val_loss: 0.3368 - val_accuracy: 0.8493\n",
            "Epoch 47/100\n",
            "32/32 [==============================] - 1s 37ms/step - loss: 0.1586 - accuracy: 0.9428 - val_loss: 0.2858 - val_accuracy: 0.8858\n",
            "Epoch 48/100\n",
            "32/32 [==============================] - 1s 38ms/step - loss: 0.1936 - accuracy: 0.9008 - val_loss: 0.2971 - val_accuracy: 0.8721\n",
            "Epoch 49/100\n",
            "32/32 [==============================] - 1s 37ms/step - loss: 0.1622 - accuracy: 0.9284 - val_loss: 0.3315 - val_accuracy: 0.8767\n",
            "Epoch 50/100\n",
            "32/32 [==============================] - 1s 38ms/step - loss: 0.1389 - accuracy: 0.9454 - val_loss: 0.3661 - val_accuracy: 0.8858\n",
            "Epoch 51/100\n",
            "32/32 [==============================] - 1s 38ms/step - loss: 0.1504 - accuracy: 0.9409 - val_loss: 0.3653 - val_accuracy: 0.8904\n",
            "Epoch 52/100\n",
            "32/32 [==============================] - 1s 37ms/step - loss: 0.1493 - accuracy: 0.9376 - val_loss: 0.4360 - val_accuracy: 0.8265\n",
            "Epoch 53/100\n",
            "32/32 [==============================] - 1s 37ms/step - loss: 0.1977 - accuracy: 0.9324 - val_loss: 0.3256 - val_accuracy: 0.8584\n",
            "Epoch 54/100\n",
            "32/32 [==============================] - 1s 37ms/step - loss: 0.1822 - accuracy: 0.9235 - val_loss: 0.3081 - val_accuracy: 0.8904\n",
            "Epoch 55/100\n",
            "32/32 [==============================] - 1s 37ms/step - loss: 0.1768 - accuracy: 0.9110 - val_loss: 0.3256 - val_accuracy: 0.9041\n",
            "Epoch 56/100\n",
            "32/32 [==============================] - 1s 38ms/step - loss: 0.1478 - accuracy: 0.9332 - val_loss: 0.2804 - val_accuracy: 0.8630\n",
            "Epoch 57/100\n",
            "32/32 [==============================] - 1s 38ms/step - loss: 0.1532 - accuracy: 0.9383 - val_loss: 0.3845 - val_accuracy: 0.8813\n",
            "Epoch 58/100\n",
            "32/32 [==============================] - 1s 36ms/step - loss: 0.1723 - accuracy: 0.9386 - val_loss: 0.3798 - val_accuracy: 0.8813\n",
            "Epoch 59/100\n",
            "32/32 [==============================] - 1s 39ms/step - loss: 0.1460 - accuracy: 0.9379 - val_loss: 0.3791 - val_accuracy: 0.8676\n",
            "Epoch 60/100\n",
            "32/32 [==============================] - 1s 37ms/step - loss: 0.1350 - accuracy: 0.9348 - val_loss: 0.3739 - val_accuracy: 0.8813\n",
            "Epoch 61/100\n",
            "32/32 [==============================] - 1s 37ms/step - loss: 0.1266 - accuracy: 0.9494 - val_loss: 0.3394 - val_accuracy: 0.8676\n",
            "Epoch 62/100\n",
            "32/32 [==============================] - 1s 38ms/step - loss: 0.1643 - accuracy: 0.9392 - val_loss: 0.3084 - val_accuracy: 0.8813\n",
            "Epoch 63/100\n",
            "32/32 [==============================] - 1s 37ms/step - loss: 0.1365 - accuracy: 0.9426 - val_loss: 0.3709 - val_accuracy: 0.8813\n",
            "Epoch 64/100\n",
            "32/32 [==============================] - 1s 37ms/step - loss: 0.1416 - accuracy: 0.9527 - val_loss: 0.3160 - val_accuracy: 0.8539\n",
            "Epoch 65/100\n",
            "32/32 [==============================] - 1s 38ms/step - loss: 0.1403 - accuracy: 0.9372 - val_loss: 0.4967 - val_accuracy: 0.8493\n",
            "Epoch 66/100\n",
            "32/32 [==============================] - 1s 38ms/step - loss: 0.1694 - accuracy: 0.9248 - val_loss: 0.4374 - val_accuracy: 0.8037\n",
            "Epoch 67/100\n",
            "32/32 [==============================] - 1s 38ms/step - loss: 0.2079 - accuracy: 0.9091 - val_loss: 0.3480 - val_accuracy: 0.8721\n",
            "Epoch 68/100\n",
            "32/32 [==============================] - 1s 38ms/step - loss: 0.1635 - accuracy: 0.9286 - val_loss: 0.3556 - val_accuracy: 0.8813\n",
            "Epoch 69/100\n",
            "32/32 [==============================] - 1s 37ms/step - loss: 0.1251 - accuracy: 0.9521 - val_loss: 0.4129 - val_accuracy: 0.8676\n",
            "Epoch 70/100\n",
            "32/32 [==============================] - 1s 37ms/step - loss: 0.1276 - accuracy: 0.9425 - val_loss: 0.4696 - val_accuracy: 0.8539\n",
            "Epoch 71/100\n",
            "32/32 [==============================] - 1s 39ms/step - loss: 0.1532 - accuracy: 0.9266 - val_loss: 0.4537 - val_accuracy: 0.8630\n",
            "Epoch 72/100\n",
            "32/32 [==============================] - 1s 37ms/step - loss: 0.1553 - accuracy: 0.9375 - val_loss: 0.3474 - val_accuracy: 0.8676\n",
            "Epoch 73/100\n",
            "32/32 [==============================] - 1s 37ms/step - loss: 0.1375 - accuracy: 0.9495 - val_loss: 0.4312 - val_accuracy: 0.8630\n",
            "Epoch 74/100\n",
            "32/32 [==============================] - 1s 39ms/step - loss: 0.1460 - accuracy: 0.9370 - val_loss: 0.3258 - val_accuracy: 0.8767\n",
            "Epoch 75/100\n",
            "32/32 [==============================] - 1s 38ms/step - loss: 0.1403 - accuracy: 0.9436 - val_loss: 0.3799 - val_accuracy: 0.8721\n",
            "Epoch 76/100\n",
            "32/32 [==============================] - 1s 38ms/step - loss: 0.1489 - accuracy: 0.9405 - val_loss: 0.4279 - val_accuracy: 0.8813\n",
            "Epoch 77/100\n",
            "32/32 [==============================] - 1s 38ms/step - loss: 0.1425 - accuracy: 0.9474 - val_loss: 0.4352 - val_accuracy: 0.8676\n",
            "Epoch 78/100\n",
            "32/32 [==============================] - 1s 37ms/step - loss: 0.1415 - accuracy: 0.9406 - val_loss: 0.4067 - val_accuracy: 0.8539\n",
            "Epoch 79/100\n",
            "32/32 [==============================] - 1s 37ms/step - loss: 0.1743 - accuracy: 0.9283 - val_loss: 0.4943 - val_accuracy: 0.8219\n",
            "Epoch 80/100\n",
            "32/32 [==============================] - 1s 39ms/step - loss: 0.2241 - accuracy: 0.9253 - val_loss: 0.3530 - val_accuracy: 0.8767\n",
            "Epoch 81/100\n",
            "32/32 [==============================] - 1s 37ms/step - loss: 0.1196 - accuracy: 0.9442 - val_loss: 0.3602 - val_accuracy: 0.8676\n",
            "Epoch 82/100\n",
            "32/32 [==============================] - 1s 37ms/step - loss: 0.1121 - accuracy: 0.9504 - val_loss: 0.4176 - val_accuracy: 0.8813\n",
            "Epoch 83/100\n",
            "32/32 [==============================] - 1s 38ms/step - loss: 0.1324 - accuracy: 0.9443 - val_loss: 0.4184 - val_accuracy: 0.8676\n",
            "Epoch 84/100\n",
            "32/32 [==============================] - 1s 37ms/step - loss: 0.1534 - accuracy: 0.9447 - val_loss: 0.3709 - val_accuracy: 0.8584\n",
            "Epoch 85/100\n",
            "32/32 [==============================] - 1s 36ms/step - loss: 0.1374 - accuracy: 0.9439 - val_loss: 0.3760 - val_accuracy: 0.8584\n",
            "Epoch 86/100\n",
            "32/32 [==============================] - 1s 38ms/step - loss: 0.1133 - accuracy: 0.9501 - val_loss: 0.3948 - val_accuracy: 0.8630\n",
            "Epoch 87/100\n",
            "32/32 [==============================] - 1s 37ms/step - loss: 0.1451 - accuracy: 0.9406 - val_loss: 0.4074 - val_accuracy: 0.8721\n",
            "Epoch 88/100\n",
            "32/32 [==============================] - 1s 42ms/step - loss: 0.1058 - accuracy: 0.9593 - val_loss: 0.5022 - val_accuracy: 0.8676\n",
            "Epoch 89/100\n",
            "32/32 [==============================] - 1s 38ms/step - loss: 0.1131 - accuracy: 0.9506 - val_loss: 0.4657 - val_accuracy: 0.8447\n",
            "Epoch 90/100\n",
            "32/32 [==============================] - 1s 38ms/step - loss: 0.1217 - accuracy: 0.9459 - val_loss: 0.4724 - val_accuracy: 0.8630\n",
            "Epoch 91/100\n",
            "32/32 [==============================] - 1s 38ms/step - loss: 0.1279 - accuracy: 0.9440 - val_loss: 0.4497 - val_accuracy: 0.8539\n",
            "Epoch 92/100\n",
            "32/32 [==============================] - 1s 38ms/step - loss: 0.1535 - accuracy: 0.9384 - val_loss: 0.3693 - val_accuracy: 0.8630\n",
            "Epoch 93/100\n",
            "32/32 [==============================] - 1s 37ms/step - loss: 0.1424 - accuracy: 0.9428 - val_loss: 0.4033 - val_accuracy: 0.8721\n",
            "Epoch 94/100\n",
            "32/32 [==============================] - 1s 37ms/step - loss: 0.1245 - accuracy: 0.9493 - val_loss: 0.4411 - val_accuracy: 0.8539\n",
            "Epoch 95/100\n",
            "32/32 [==============================] - 1s 38ms/step - loss: 0.1006 - accuracy: 0.9599 - val_loss: 0.5524 - val_accuracy: 0.8584\n",
            "Epoch 96/100\n",
            "32/32 [==============================] - 1s 37ms/step - loss: 0.1297 - accuracy: 0.9474 - val_loss: 0.5284 - val_accuracy: 0.8950\n",
            "Epoch 97/100\n",
            "32/32 [==============================] - 1s 37ms/step - loss: 0.1261 - accuracy: 0.9473 - val_loss: 0.4953 - val_accuracy: 0.8858\n",
            "Epoch 98/100\n",
            "32/32 [==============================] - 1s 38ms/step - loss: 0.1080 - accuracy: 0.9602 - val_loss: 0.4648 - val_accuracy: 0.8676\n",
            "Epoch 99/100\n",
            "32/32 [==============================] - 1s 38ms/step - loss: 0.1122 - accuracy: 0.9554 - val_loss: 0.4874 - val_accuracy: 0.8493\n",
            "Epoch 100/100\n",
            "32/32 [==============================] - 1s 37ms/step - loss: 0.0881 - accuracy: 0.9671 - val_loss: 0.5903 - val_accuracy: 0.8493\n"
          ],
          "name": "stdout"
        }
      ]
    },
    {
      "cell_type": "code",
      "metadata": {
        "colab": {
          "base_uri": "https://localhost:8080/",
          "height": 294
        },
        "id": "p06nkzpSwCFe",
        "outputId": "624dcfb4-bef4-41f4-d9dc-76fd7ffc35da"
      },
      "source": [
        "plt.plot(hist_2.history['loss'])\r\n",
        "plt.plot(hist_2.history['val_loss'])\r\n",
        "plt.title('Model loss')\r\n",
        "plt.ylabel('Loss')\r\n",
        "plt.xlabel('Epoch')\r\n",
        "plt.legend(['Train', 'Val'], loc='upper right')\r\n",
        "plt.show()"
      ],
      "execution_count": 30,
      "outputs": [
        {
          "output_type": "display_data",
          "data": {
            "image/png": "[encoded data removed]",
            "text/plain": [
              "<Figure size 432x288 with 1 Axes>"
            ]
          },
          "metadata": {
            "tags": [],
            "needs_background": "light"
          }
        }
      ]
    },
    {
      "cell_type": "code",
      "metadata": {
        "colab": {
          "base_uri": "https://localhost:8080/",
          "height": 294
        },
        "id": "ZBiixU6Gwplu",
        "outputId": "7ba86dba-1b92-4ed5-aa32-74f6f33c53f3"
      },
      "source": [
        "plt.plot(hist_2.history['accuracy'])\r\n",
        "plt.plot(hist_2.history['val_accuracy'])\r\n",
        "plt.title('Model accuracy')\r\n",
        "plt.ylabel('Accuracy')\r\n",
        "plt.xlabel('Epoch')\r\n",
        "plt.legend(['Train', 'Val'], loc='lower right')\r\n",
        "plt.show()"
      ],
      "execution_count": 32,
      "outputs": [
        {
          "output_type": "display_data",
          "data": {
            "image/png": "[encoded data removed]",
            "text/plain": [
              "<Figure size 432x288 with 1 Axes>"
            ]
          },
          "metadata": {
            "tags": [],
            "needs_background": "light"
          }
        }
      ]
    },
    {
      "cell_type": "markdown",
      "metadata": {
        "id": "kdpni43px9Cg"
      },
      "source": [
        "Clear case of overfitting :("
      ]
    },
    {
      "cell_type": "markdown",
      "metadata": {
        "id": "Q-kTu3IBxGm8"
      },
      "source": [
        "#Model 3: reducing overfitting"
      ]
    },
    {
      "cell_type": "code",
      "metadata": {
        "id": "4BWlcU7fww-G"
      },
      "source": [
        "from keras.layers import Dropout\r\n",
        "from keras import regularizers\r\n",
        "model_3 = Sequential([\r\n",
        "    Dense(1000, activation='relu', kernel_regularizer=regularizers.l2(0.01), input_shape=(10,)),\r\n",
        "    Dropout(0.3),\r\n",
        "    Dense(1000, activation='relu', kernel_regularizer=regularizers.l2(0.01)),\r\n",
        "    Dropout(0.3),\r\n",
        "    Dense(1000, activation='relu', kernel_regularizer=regularizers.l2(0.01)),\r\n",
        "    Dropout(0.3),\r\n",
        "    Dense(1000, activation='relu', kernel_regularizer=regularizers.l2(0.01)),\r\n",
        "    Dropout(0.3),\r\n",
        "    Dense(1, activation='sigmoid', kernel_regularizer=regularizers.l2(0.01)),\r\n",
        "])"
      ],
      "execution_count": 33,
      "outputs": []
    },
    {
      "cell_type": "code",
      "metadata": {
        "colab": {
          "base_uri": "https://localhost:8080/"
        },
        "id": "PWyw6SKsw0Mu",
        "outputId": "32c214f2-7035-4d3b-da9e-09a1a541940b"
      },
      "source": [
        "model_3.compile(optimizer='adam',\r\n",
        "              loss='binary_crossentropy',\r\n",
        "              metrics=['accuracy'])\r\n",
        "hist_3 = model_3.fit(X_train, Y_train,\r\n",
        "          batch_size=32, epochs=100,\r\n",
        "          validation_data=(X_val, Y_val))"
      ],
      "execution_count": 34,
      "outputs": [
        {
          "output_type": "stream",
          "text": [
            "Epoch 1/100\n",
            "32/32 [==============================] - 3s 54ms/step - loss: 21.0987 - accuracy: 0.5438 - val_loss: 3.9328 - val_accuracy: 0.8037\n",
            "Epoch 2/100\n",
            "32/32 [==============================] - 2s 47ms/step - loss: 2.4955 - accuracy: 0.8564 - val_loss: 0.6787 - val_accuracy: 0.8356\n",
            "Epoch 3/100\n",
            "32/32 [==============================] - 2s 48ms/step - loss: 0.5988 - accuracy: 0.8514 - val_loss: 0.5418 - val_accuracy: 0.8219\n",
            "Epoch 4/100\n",
            "32/32 [==============================] - 2s 48ms/step - loss: 0.4977 - accuracy: 0.8760 - val_loss: 0.5065 - val_accuracy: 0.8493\n",
            "Epoch 5/100\n",
            "32/32 [==============================] - 2s 48ms/step - loss: 0.4908 - accuracy: 0.8849 - val_loss: 0.5596 - val_accuracy: 0.8174\n",
            "Epoch 6/100\n",
            "32/32 [==============================] - 1s 47ms/step - loss: 0.5038 - accuracy: 0.8578 - val_loss: 0.5278 - val_accuracy: 0.8402\n",
            "Epoch 7/100\n",
            "32/32 [==============================] - 2s 49ms/step - loss: 0.4764 - accuracy: 0.8775 - val_loss: 0.5282 - val_accuracy: 0.8311\n",
            "Epoch 8/100\n",
            "32/32 [==============================] - 2s 48ms/step - loss: 0.4464 - accuracy: 0.8814 - val_loss: 0.5184 - val_accuracy: 0.8447\n",
            "Epoch 9/100\n",
            "32/32 [==============================] - 2s 48ms/step - loss: 0.4757 - accuracy: 0.8744 - val_loss: 0.4751 - val_accuracy: 0.8402\n",
            "Epoch 10/100\n",
            "32/32 [==============================] - 2s 47ms/step - loss: 0.4567 - accuracy: 0.8795 - val_loss: 0.4818 - val_accuracy: 0.8402\n",
            "Epoch 11/100\n",
            "32/32 [==============================] - 1s 47ms/step - loss: 0.4577 - accuracy: 0.8877 - val_loss: 0.4875 - val_accuracy: 0.8402\n",
            "Epoch 12/100\n",
            "32/32 [==============================] - 2s 48ms/step - loss: 0.4437 - accuracy: 0.8941 - val_loss: 0.5293 - val_accuracy: 0.8311\n",
            "Epoch 13/100\n",
            "32/32 [==============================] - 2s 48ms/step - loss: 0.5221 - accuracy: 0.8425 - val_loss: 0.5462 - val_accuracy: 0.8219\n",
            "Epoch 14/100\n",
            "32/32 [==============================] - 2s 48ms/step - loss: 0.4854 - accuracy: 0.8735 - val_loss: 0.4653 - val_accuracy: 0.8402\n",
            "Epoch 15/100\n",
            "32/32 [==============================] - 2s 48ms/step - loss: 0.4180 - accuracy: 0.8958 - val_loss: 0.4743 - val_accuracy: 0.8447\n",
            "Epoch 16/100\n",
            "32/32 [==============================] - 2s 48ms/step - loss: 0.4882 - accuracy: 0.8805 - val_loss: 0.4802 - val_accuracy: 0.8539\n",
            "Epoch 17/100\n",
            "32/32 [==============================] - 2s 48ms/step - loss: 0.4383 - accuracy: 0.8877 - val_loss: 0.4750 - val_accuracy: 0.8402\n",
            "Epoch 18/100\n",
            "32/32 [==============================] - 2s 50ms/step - loss: 0.4602 - accuracy: 0.8729 - val_loss: 0.5811 - val_accuracy: 0.7945\n",
            "Epoch 19/100\n",
            "32/32 [==============================] - 2s 47ms/step - loss: 0.4793 - accuracy: 0.8663 - val_loss: 0.4684 - val_accuracy: 0.8539\n",
            "Epoch 20/100\n",
            "32/32 [==============================] - 2s 48ms/step - loss: 0.4353 - accuracy: 0.8997 - val_loss: 0.5499 - val_accuracy: 0.8082\n",
            "Epoch 21/100\n",
            "32/32 [==============================] - 2s 47ms/step - loss: 0.4311 - accuracy: 0.8947 - val_loss: 0.4599 - val_accuracy: 0.8447\n",
            "Epoch 22/100\n",
            "32/32 [==============================] - 2s 47ms/step - loss: 0.4467 - accuracy: 0.8884 - val_loss: 0.5118 - val_accuracy: 0.8219\n",
            "Epoch 23/100\n",
            "32/32 [==============================] - 2s 47ms/step - loss: 0.4546 - accuracy: 0.8863 - val_loss: 0.4819 - val_accuracy: 0.8539\n",
            "Epoch 24/100\n",
            "32/32 [==============================] - 2s 47ms/step - loss: 0.4430 - accuracy: 0.8821 - val_loss: 0.4847 - val_accuracy: 0.8493\n",
            "Epoch 25/100\n",
            "32/32 [==============================] - 2s 48ms/step - loss: 0.4362 - accuracy: 0.8854 - val_loss: 0.4600 - val_accuracy: 0.8447\n",
            "Epoch 26/100\n",
            "32/32 [==============================] - 2s 48ms/step - loss: 0.4617 - accuracy: 0.8724 - val_loss: 0.4685 - val_accuracy: 0.8447\n",
            "Epoch 27/100\n",
            "32/32 [==============================] - 2s 49ms/step - loss: 0.4353 - accuracy: 0.8921 - val_loss: 0.4569 - val_accuracy: 0.8539\n",
            "Epoch 28/100\n",
            "32/32 [==============================] - 1s 47ms/step - loss: 0.4506 - accuracy: 0.8920 - val_loss: 0.4583 - val_accuracy: 0.8493\n",
            "Epoch 29/100\n",
            "32/32 [==============================] - 2s 48ms/step - loss: 0.4329 - accuracy: 0.8943 - val_loss: 0.4935 - val_accuracy: 0.8447\n",
            "Epoch 30/100\n",
            "32/32 [==============================] - 2s 47ms/step - loss: 0.4537 - accuracy: 0.8719 - val_loss: 0.4529 - val_accuracy: 0.8584\n",
            "Epoch 31/100\n",
            "32/32 [==============================] - 2s 48ms/step - loss: 0.4104 - accuracy: 0.9041 - val_loss: 0.4736 - val_accuracy: 0.8493\n",
            "Epoch 32/100\n",
            "32/32 [==============================] - 2s 48ms/step - loss: 0.4654 - accuracy: 0.8775 - val_loss: 0.4515 - val_accuracy: 0.8630\n",
            "Epoch 33/100\n",
            "32/32 [==============================] - 2s 49ms/step - loss: 0.4112 - accuracy: 0.9029 - val_loss: 0.4526 - val_accuracy: 0.8539\n",
            "Epoch 34/100\n",
            "32/32 [==============================] - 1s 47ms/step - loss: 0.4476 - accuracy: 0.8795 - val_loss: 0.4633 - val_accuracy: 0.8447\n",
            "Epoch 35/100\n",
            "32/32 [==============================] - 2s 48ms/step - loss: 0.4283 - accuracy: 0.8896 - val_loss: 0.4507 - val_accuracy: 0.8630\n",
            "Epoch 36/100\n",
            "32/32 [==============================] - 2s 47ms/step - loss: 0.4262 - accuracy: 0.8851 - val_loss: 0.4779 - val_accuracy: 0.8447\n",
            "Epoch 37/100\n",
            "32/32 [==============================] - 2s 49ms/step - loss: 0.4457 - accuracy: 0.8854 - val_loss: 0.4685 - val_accuracy: 0.8539\n",
            "Epoch 38/100\n",
            "32/32 [==============================] - 2s 49ms/step - loss: 0.4609 - accuracy: 0.8653 - val_loss: 0.4617 - val_accuracy: 0.8539\n",
            "Epoch 39/100\n",
            "32/32 [==============================] - 2s 47ms/step - loss: 0.4401 - accuracy: 0.8733 - val_loss: 0.4617 - val_accuracy: 0.8630\n",
            "Epoch 40/100\n",
            "32/32 [==============================] - 2s 48ms/step - loss: 0.4569 - accuracy: 0.8732 - val_loss: 0.4582 - val_accuracy: 0.8539\n",
            "Epoch 41/100\n",
            "32/32 [==============================] - 2s 47ms/step - loss: 0.4209 - accuracy: 0.8954 - val_loss: 0.4515 - val_accuracy: 0.8539\n",
            "Epoch 42/100\n",
            "32/32 [==============================] - 2s 48ms/step - loss: 0.4244 - accuracy: 0.8940 - val_loss: 0.4683 - val_accuracy: 0.8493\n",
            "Epoch 43/100\n",
            "32/32 [==============================] - 2s 48ms/step - loss: 0.4404 - accuracy: 0.8736 - val_loss: 0.4527 - val_accuracy: 0.8630\n",
            "Epoch 44/100\n",
            "32/32 [==============================] - 2s 47ms/step - loss: 0.4281 - accuracy: 0.8839 - val_loss: 0.4484 - val_accuracy: 0.8676\n",
            "Epoch 45/100\n",
            "32/32 [==============================] - 2s 48ms/step - loss: 0.4430 - accuracy: 0.8736 - val_loss: 0.5251 - val_accuracy: 0.8174\n",
            "Epoch 46/100\n",
            "32/32 [==============================] - 2s 49ms/step - loss: 0.4410 - accuracy: 0.8785 - val_loss: 0.4542 - val_accuracy: 0.8539\n",
            "Epoch 47/100\n",
            "32/32 [==============================] - 2s 48ms/step - loss: 0.4352 - accuracy: 0.8810 - val_loss: 0.4842 - val_accuracy: 0.8447\n",
            "Epoch 48/100\n",
            "32/32 [==============================] - 2s 48ms/step - loss: 0.4652 - accuracy: 0.8764 - val_loss: 0.4673 - val_accuracy: 0.8584\n",
            "Epoch 49/100\n",
            "32/32 [==============================] - 2s 48ms/step - loss: 0.4630 - accuracy: 0.8696 - val_loss: 0.4476 - val_accuracy: 0.8676\n",
            "Epoch 50/100\n",
            "32/32 [==============================] - 2s 48ms/step - loss: 0.4456 - accuracy: 0.8844 - val_loss: 0.5355 - val_accuracy: 0.8174\n",
            "Epoch 51/100\n",
            "32/32 [==============================] - 2s 48ms/step - loss: 0.4435 - accuracy: 0.8885 - val_loss: 0.5347 - val_accuracy: 0.8174\n",
            "Epoch 52/100\n",
            "32/32 [==============================] - 2s 50ms/step - loss: 0.4657 - accuracy: 0.8793 - val_loss: 0.4573 - val_accuracy: 0.8493\n",
            "Epoch 53/100\n",
            "32/32 [==============================] - 1s 47ms/step - loss: 0.4389 - accuracy: 0.8776 - val_loss: 0.5052 - val_accuracy: 0.8402\n",
            "Epoch 54/100\n",
            "32/32 [==============================] - 2s 49ms/step - loss: 0.4265 - accuracy: 0.9022 - val_loss: 0.4503 - val_accuracy: 0.8630\n",
            "Epoch 55/100\n",
            "32/32 [==============================] - 2s 49ms/step - loss: 0.4583 - accuracy: 0.8838 - val_loss: 0.4547 - val_accuracy: 0.8584\n",
            "Epoch 56/100\n",
            "32/32 [==============================] - 2s 49ms/step - loss: 0.4459 - accuracy: 0.8877 - val_loss: 0.4528 - val_accuracy: 0.8539\n",
            "Epoch 57/100\n",
            "32/32 [==============================] - 2s 48ms/step - loss: 0.4245 - accuracy: 0.8965 - val_loss: 0.4973 - val_accuracy: 0.8402\n",
            "Epoch 58/100\n",
            "32/32 [==============================] - 2s 48ms/step - loss: 0.4671 - accuracy: 0.8678 - val_loss: 0.4674 - val_accuracy: 0.8584\n",
            "Epoch 59/100\n",
            "32/32 [==============================] - 2s 48ms/step - loss: 0.4343 - accuracy: 0.8941 - val_loss: 0.4576 - val_accuracy: 0.8630\n",
            "Epoch 60/100\n",
            "32/32 [==============================] - 2s 47ms/step - loss: 0.4335 - accuracy: 0.8975 - val_loss: 0.4850 - val_accuracy: 0.8402\n",
            "Epoch 61/100\n",
            "32/32 [==============================] - 2s 48ms/step - loss: 0.4753 - accuracy: 0.8745 - val_loss: 0.4651 - val_accuracy: 0.8539\n",
            "Epoch 62/100\n",
            "32/32 [==============================] - 2s 47ms/step - loss: 0.4508 - accuracy: 0.8743 - val_loss: 0.4764 - val_accuracy: 0.8539\n",
            "Epoch 63/100\n",
            "32/32 [==============================] - 2s 47ms/step - loss: 0.4496 - accuracy: 0.8776 - val_loss: 0.4514 - val_accuracy: 0.8584\n",
            "Epoch 64/100\n",
            "32/32 [==============================] - 2s 48ms/step - loss: 0.4317 - accuracy: 0.8795 - val_loss: 0.4614 - val_accuracy: 0.8539\n",
            "Epoch 65/100\n",
            "32/32 [==============================] - 2s 47ms/step - loss: 0.4360 - accuracy: 0.8884 - val_loss: 0.4622 - val_accuracy: 0.8630\n",
            "Epoch 66/100\n",
            "32/32 [==============================] - 2s 51ms/step - loss: 0.4269 - accuracy: 0.8904 - val_loss: 0.4468 - val_accuracy: 0.8676\n",
            "Epoch 67/100\n",
            "32/32 [==============================] - 2s 53ms/step - loss: 0.4359 - accuracy: 0.8827 - val_loss: 0.4537 - val_accuracy: 0.8493\n",
            "Epoch 68/100\n",
            "32/32 [==============================] - 2s 52ms/step - loss: 0.4254 - accuracy: 0.8911 - val_loss: 0.4471 - val_accuracy: 0.8676\n",
            "Epoch 69/100\n",
            "32/32 [==============================] - 2s 53ms/step - loss: 0.4214 - accuracy: 0.8938 - val_loss: 0.4816 - val_accuracy: 0.8447\n",
            "Epoch 70/100\n",
            "32/32 [==============================] - 2s 48ms/step - loss: 0.4302 - accuracy: 0.9070 - val_loss: 0.4717 - val_accuracy: 0.8676\n",
            "Epoch 71/100\n",
            "32/32 [==============================] - 2s 48ms/step - loss: 0.4540 - accuracy: 0.8912 - val_loss: 0.5264 - val_accuracy: 0.8265\n",
            "Epoch 72/100\n",
            "32/32 [==============================] - 2s 49ms/step - loss: 0.4246 - accuracy: 0.9015 - val_loss: 0.4516 - val_accuracy: 0.8630\n",
            "Epoch 73/100\n",
            "32/32 [==============================] - 2s 48ms/step - loss: 0.4390 - accuracy: 0.8770 - val_loss: 0.4883 - val_accuracy: 0.8402\n",
            "Epoch 74/100\n",
            "32/32 [==============================] - 2s 48ms/step - loss: 0.4723 - accuracy: 0.8666 - val_loss: 0.4526 - val_accuracy: 0.8721\n",
            "Epoch 75/100\n",
            "32/32 [==============================] - 2s 49ms/step - loss: 0.4568 - accuracy: 0.8692 - val_loss: 0.4464 - val_accuracy: 0.8630\n",
            "Epoch 76/100\n",
            "32/32 [==============================] - 2s 49ms/step - loss: 0.4425 - accuracy: 0.8904 - val_loss: 0.4542 - val_accuracy: 0.8539\n",
            "Epoch 77/100\n",
            "32/32 [==============================] - 2s 48ms/step - loss: 0.4391 - accuracy: 0.8836 - val_loss: 0.4457 - val_accuracy: 0.8630\n",
            "Epoch 78/100\n",
            "32/32 [==============================] - 2s 49ms/step - loss: 0.4403 - accuracy: 0.8859 - val_loss: 0.4490 - val_accuracy: 0.8630\n",
            "Epoch 79/100\n",
            "32/32 [==============================] - 2s 47ms/step - loss: 0.4666 - accuracy: 0.8611 - val_loss: 0.4935 - val_accuracy: 0.8402\n",
            "Epoch 80/100\n",
            "32/32 [==============================] - 2s 48ms/step - loss: 0.4402 - accuracy: 0.8863 - val_loss: 0.4535 - val_accuracy: 0.8584\n",
            "Epoch 81/100\n",
            "32/32 [==============================] - 2s 49ms/step - loss: 0.4570 - accuracy: 0.8829 - val_loss: 0.4840 - val_accuracy: 0.8447\n",
            "Epoch 82/100\n",
            "32/32 [==============================] - 2s 48ms/step - loss: 0.4583 - accuracy: 0.8796 - val_loss: 0.4592 - val_accuracy: 0.8447\n",
            "Epoch 83/100\n",
            "32/32 [==============================] - 2s 48ms/step - loss: 0.4138 - accuracy: 0.8912 - val_loss: 0.4594 - val_accuracy: 0.8539\n",
            "Epoch 84/100\n",
            "32/32 [==============================] - 2s 48ms/step - loss: 0.4487 - accuracy: 0.8721 - val_loss: 0.4578 - val_accuracy: 0.8493\n",
            "Epoch 85/100\n",
            "32/32 [==============================] - 2s 48ms/step - loss: 0.4141 - accuracy: 0.9018 - val_loss: 0.4564 - val_accuracy: 0.8630\n",
            "Epoch 86/100\n",
            "32/32 [==============================] - 2s 48ms/step - loss: 0.4509 - accuracy: 0.8782 - val_loss: 0.5585 - val_accuracy: 0.8037\n",
            "Epoch 87/100\n",
            "32/32 [==============================] - 1s 47ms/step - loss: 0.4595 - accuracy: 0.8875 - val_loss: 0.4980 - val_accuracy: 0.8402\n",
            "Epoch 88/100\n",
            "32/32 [==============================] - 2s 48ms/step - loss: 0.4525 - accuracy: 0.8751 - val_loss: 0.5033 - val_accuracy: 0.8356\n",
            "Epoch 89/100\n",
            "32/32 [==============================] - 2s 47ms/step - loss: 0.4532 - accuracy: 0.8888 - val_loss: 0.4506 - val_accuracy: 0.8630\n",
            "Epoch 90/100\n",
            "32/32 [==============================] - 2s 48ms/step - loss: 0.4381 - accuracy: 0.8907 - val_loss: 0.5564 - val_accuracy: 0.8174\n",
            "Epoch 91/100\n",
            "32/32 [==============================] - 2s 49ms/step - loss: 0.4479 - accuracy: 0.8730 - val_loss: 0.4491 - val_accuracy: 0.8630\n",
            "Epoch 92/100\n",
            "32/32 [==============================] - 2s 47ms/step - loss: 0.4119 - accuracy: 0.9116 - val_loss: 0.4500 - val_accuracy: 0.8493\n",
            "Epoch 93/100\n",
            "32/32 [==============================] - 2s 50ms/step - loss: 0.4260 - accuracy: 0.8756 - val_loss: 0.4621 - val_accuracy: 0.8584\n",
            "Epoch 94/100\n",
            "32/32 [==============================] - 2s 51ms/step - loss: 0.4518 - accuracy: 0.8849 - val_loss: 0.4666 - val_accuracy: 0.8584\n",
            "Epoch 95/100\n",
            "32/32 [==============================] - 2s 51ms/step - loss: 0.4541 - accuracy: 0.8754 - val_loss: 0.4554 - val_accuracy: 0.8584\n",
            "Epoch 96/100\n",
            "32/32 [==============================] - 2s 50ms/step - loss: 0.4359 - accuracy: 0.8853 - val_loss: 0.4489 - val_accuracy: 0.8584\n",
            "Epoch 97/100\n",
            "32/32 [==============================] - 2s 52ms/step - loss: 0.4113 - accuracy: 0.9090 - val_loss: 0.4465 - val_accuracy: 0.8630\n",
            "Epoch 98/100\n",
            "32/32 [==============================] - 2s 51ms/step - loss: 0.4083 - accuracy: 0.8857 - val_loss: 0.4564 - val_accuracy: 0.8584\n",
            "Epoch 99/100\n",
            "32/32 [==============================] - 2s 50ms/step - loss: 0.4565 - accuracy: 0.8671 - val_loss: 0.4637 - val_accuracy: 0.8630\n",
            "Epoch 100/100\n",
            "32/32 [==============================] - 2s 50ms/step - loss: 0.4406 - accuracy: 0.8890 - val_loss: 0.4935 - val_accuracy: 0.8402\n"
          ],
          "name": "stdout"
        }
      ]
    },
    {
      "cell_type": "code",
      "metadata": {
        "colab": {
          "base_uri": "https://localhost:8080/",
          "height": 294
        },
        "id": "u22n8yTtxbo2",
        "outputId": "fc6751ab-78c4-4ae1-82ba-f73295e3f9ef"
      },
      "source": [
        "plt.plot(hist_3.history['loss'])\r\n",
        "plt.plot(hist_3.history['val_loss'])\r\n",
        "plt.title('Model loss')\r\n",
        "plt.ylabel('Loss')\r\n",
        "plt.xlabel('Epoch')\r\n",
        "plt.legend(['Train', 'Val'], loc='upper right')\r\n",
        "plt.ylim(top=1.2, bottom=0)\r\n",
        "plt.show()"
      ],
      "execution_count": 35,
      "outputs": [
        {
          "output_type": "display_data",
          "data": {
            "image/png": "[encoded data removed]",
            "text/plain": [
              "<Figure size 432x288 with 1 Axes>"
            ]
          },
          "metadata": {
            "tags": [],
            "needs_background": "light"
          }
        }
      ]
    },
    {
      "cell_type": "code",
      "metadata": {
        "colab": {
          "base_uri": "https://localhost:8080/",
          "height": 294
        },
        "id": "LtrluLzfxhQH",
        "outputId": "20299f96-8178-483a-f06d-ff36d47853ba"
      },
      "source": [
        "plt.plot(hist_3.history['accuracy'])\r\n",
        "plt.plot(hist_3.history['val_accuracy'])\r\n",
        "plt.title('Model accuracy')\r\n",
        "plt.ylabel('Accuracy')\r\n",
        "plt.xlabel('Epoch')\r\n",
        "plt.legend(['Train', 'Val'], loc='lower right')\r\n",
        "plt.show()"
      ],
      "execution_count": 37,
      "outputs": [
        {
          "output_type": "display_data",
          "data": {
            "image/png": "[encoded data removed]",
            "text/plain": [
              "<Figure size 432x288 with 1 Axes>"
            ]
          },
          "metadata": {
            "tags": [],
            "needs_background": "light"
          }
        }
      ]
    },
    {
      "cell_type": "markdown",
      "metadata": {
        "id": "E2XCSd08yNsv"
      },
      "source": [
        "This task was a little bit rushed because I'm currently busy with studying for exams but It was simple and more straight-forward than the other tasks I completed."
      ]
    }
  ]
}
