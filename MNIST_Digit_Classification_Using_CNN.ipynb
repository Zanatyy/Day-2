{
  "nbformat": 4,
  "nbformat_minor": 0,
  "metadata": {
    "colab": {
      "name": "MNIST_Digit_Classification_Using_CNN.ipynb",
      "provenance": []
    },
    "kernelspec": {
      "name": "python3",
      "display_name": "Python 3"
    },
    "accelerator": "GPU"
  },
  "cells": [
    {
      "cell_type": "markdown",
      "metadata": {
        "id": "R00uS5Gm4J5C"
      },
      "source": [
        "#Importing what we need"
      ]
    },
    {
      "cell_type": "code",
      "metadata": {
        "colab": {
          "base_uri": "https://localhost:8080/"
        },
        "id": "hVzARZDs2pOi",
        "outputId": "cf42433d-01e8-4af9-96ff-9a3d70d8c1ec"
      },
      "source": [
        "from numpy import mean\r\n",
        "from numpy import std\r\n",
        "import numpy as np\r\n",
        "import pandas as pd\r\n",
        "import os\r\n",
        "import seaborn as sns\r\n",
        "import matplotlib.pyplot as plt\r\n",
        "from keras.datasets import mnist\r\n",
        "from matplotlib import pyplot\r\n",
        "(trainX, trainy), (testX, testy) = mnist.load_data()\r\n"
      ],
      "execution_count": 1,
      "outputs": [
        {
          "output_type": "stream",
          "text": [
            "Downloading data from https://storage.googleapis.com/tensorflow/tf-keras-datasets/mnist.npz\n",
            "11493376/11490434 [==============================] - 0s 0us/step\n"
          ],
          "name": "stdout"
        }
      ]
    },
    {
      "cell_type": "markdown",
      "metadata": {
        "id": "Dkei-q8d4PRa"
      },
      "source": [
        "#Checking and reading some samples"
      ]
    },
    {
      "cell_type": "code",
      "metadata": {
        "colab": {
          "base_uri": "https://localhost:8080/",
          "height": 302
        },
        "id": "0xCHiK60kaQK",
        "outputId": "358f8e0e-0773-4ec8-b1de-93f3bcbc3ea4"
      },
      "source": [
        "print('Train: X=%s, y=%s' % (trainX.shape, trainy.shape))\r\n",
        "print('Test: X=%s, y=%s' % (testX.shape, testy.shape))\r\n",
        "for i in range(9):\r\n",
        "\t# define subplot\r\n",
        "\tpyplot.subplot(330 + 1 + i)\r\n",
        "\t# plot raw pixel data\r\n",
        "\tpyplot.imshow(trainX[i], cmap=pyplot.get_cmap('gray'))\r\n",
        "# show the figure\r\n",
        "pyplot.show()\r\n",
        "(trainX, trainY), (testX, testY) = mnist.load_data()"
      ],
      "execution_count": 2,
      "outputs": [
        {
          "output_type": "stream",
          "text": [
            "Train: X=(60000, 28, 28), y=(60000,)\n",
            "Test: X=(10000, 28, 28), y=(10000,)\n"
          ],
          "name": "stdout"
        },
        {
          "output_type": "display_data",
          "data": {
            "image/png": "[encoded data removed]",
            "text/plain": [
              "<Figure size 432x288 with 9 Axes>"
            ]
          },
          "metadata": {
            "tags": [],
            "needs_background": "light"
          }
        }
      ]
    },
    {
      "cell_type": "code",
      "metadata": {
        "id": "U1RFJreN5XO7"
      },
      "source": [
        ""
      ],
      "execution_count": null,
      "outputs": []
    },
    {
      "cell_type": "markdown",
      "metadata": {
        "id": "nJ00Pfb544p2"
      },
      "source": [
        "#Reshaping dataset"
      ]
    },
    {
      "cell_type": "code",
      "metadata": {
        "id": "je_Eiwj0k2Oi"
      },
      "source": [
        "trainX = trainX.reshape((trainX.shape[0], 28, 28, 1))\r\n",
        "testX = testX.reshape((testX.shape[0], 28, 28, 1))"
      ],
      "execution_count": 3,
      "outputs": []
    },
    {
      "cell_type": "markdown",
      "metadata": {
        "id": "z2mOEmXV5dBx"
      },
      "source": [
        "#One-hot encoding"
      ]
    },
    {
      "cell_type": "code",
      "metadata": {
        "id": "5XCKyoX-ll3B"
      },
      "source": [
        "# one hot encoding\r\n",
        "from tensorflow.keras.utils import to_categorical\r\n",
        "trainY = to_categorical(trainY)\r\n",
        "testY = to_categorical(testY)"
      ],
      "execution_count": 4,
      "outputs": []
    },
    {
      "cell_type": "markdown",
      "metadata": {
        "id": "8Yo1Zaqh5lB5"
      },
      "source": [
        "#Normalizing and changing pixel range from [0:255] to [0:1]"
      ]
    },
    {
      "cell_type": "code",
      "metadata": {
        "id": "-ya2f2H1l_6o"
      },
      "source": [
        "testX = testX.astype('float32')\r\n",
        "trainX= trainX.astype('float32')\r\n",
        "testX = testX/255.0\r\n",
        "trainX = trainX/255.0\r\n"
      ],
      "execution_count": 5,
      "outputs": []
    },
    {
      "cell_type": "markdown",
      "metadata": {
        "id": "o9DcIbDj84hx"
      },
      "source": [
        "# Functions used in tutorial\r\n",
        "\r\n"
      ]
    },
    {
      "cell_type": "code",
      "metadata": {
        "id": "uhZ28rlg53CZ"
      },
      "source": [
        "#he used those in the tutorial so i'll just put them here\r\n",
        "def load_dataset():\r\n",
        "\t# load dataset\r\n",
        "\t(trainX, trainY), (testX, testY) = mnist.load_data()\r\n",
        "\t# reshape dataset to have a single channel\r\n",
        "\ttrainX = trainX.reshape((trainX.shape[0], 28, 28, 1))\r\n",
        "\ttestX = testX.reshape((testX.shape[0], 28, 28, 1))\r\n",
        "\t# one hot encode target values\r\n",
        "\ttrainY = to_categorical(trainY)\r\n",
        "\ttestY = to_categorical(testY)\r\n",
        "\treturn trainX, trainY, testX, testY\r\n",
        "\r\n",
        "def prep_pixels(train, test):\r\n",
        "\t# convert from integers to floats\r\n",
        "\ttrain_norm = train.astype('float32')\r\n",
        "\ttest_norm = test.astype('float32')\r\n",
        "\t# normalize to range 0-1\r\n",
        "\ttrain_norm = train_norm / 255.0\r\n",
        "\ttest_norm = test_norm / 255.0\r\n",
        "\t# return normalized images\r\n",
        "\treturn train_norm, test_norm\r\n",
        "#I already did converted integers in the last cell and normalized them"
      ],
      "execution_count": 6,
      "outputs": []
    },
    {
      "cell_type": "markdown",
      "metadata": {
        "id": "RqEDzXW79IJh"
      },
      "source": [
        "#Simple model"
      ]
    },
    {
      "cell_type": "code",
      "metadata": {
        "id": "G8rVenr-mkYx"
      },
      "source": [
        "# define cnn model\r\n",
        "from keras.layers import Dense, Dropout, Flatten, Conv2D, MaxPooling2D, BatchNormalization\r\n",
        "from keras.optimizers import RMSprop,Adam,SGD\r\n",
        "from keras.models import Sequential\r\n",
        "def simplemodel():\r\n",
        "\tmodel = Sequential()\r\n",
        "\tmodel.add(Conv2D(32, (3, 3), activation='relu', kernel_initializer='he_uniform', input_shape=(28, 28, 1)))\r\n",
        "\tmodel.add(MaxPooling2D((2, 2)))\r\n",
        "\tmodel.add(Flatten())\r\n",
        "\tmodel.add(Dense(100, activation='relu', kernel_initializer='he_uniform'))\r\n",
        "\tmodel.add(Dense(10, activation='softmax'))\r\n",
        "\t# compile\r\n",
        "\topt = SGD(lr=0.01, momentum=0.9)\r\n",
        "\tmodel.compile(optimizer=opt, loss='categorical_crossentropy', metrics=['accuracy'])\r\n",
        "\treturn model"
      ],
      "execution_count": 7,
      "outputs": []
    },
    {
      "cell_type": "code",
      "metadata": {
        "id": "Ylp0CABrp9yZ"
      },
      "source": [
        "# evaluate a model using k-fold cross-validation\r\n",
        "from sklearn.model_selection import KFold\r\n",
        "\r\n",
        "def modelevaluate(dataX, dataY, n_folds=5):\r\n",
        "\tscores, histories = list(), list()\r\n",
        "\t# prepare cross validation\r\n",
        "\tkfold = KFold(n_folds, shuffle=True, random_state=1)\r\n",
        "\t# enumerate splits\r\n",
        "\tfor train_ix, test_ix in kfold.split(dataX):\r\n",
        "\t\t# define model\r\n",
        "\t\tmodel = simplemodel()\r\n",
        "\t\t# select rows for train and test\r\n",
        "\t\ttrainX, trainY, testX, testY = dataX[train_ix], dataY[train_ix], dataX[test_ix], dataY[test_ix]\r\n",
        "\t\t# fit model\r\n",
        "\t\thistory = model.fit(trainX, trainY, epochs=10, batch_size=32, validation_data=(testX, testY), verbose=0)\r\n",
        "\t\t# evaluate model\r\n",
        "\t\t_, acc = model.evaluate(testX, testY, verbose=0)\r\n",
        "\t\tprint('> %.3f' % (acc * 100.0))\r\n",
        "\t\t# stores scores\r\n",
        "\t\tscores.append(acc)\r\n",
        "\t\thistories.append(history)\r\n",
        "\r\n",
        "\tdiagnostics(histories), sumperformance(scores)\r\n",
        "  \r\n",
        "\r\n",
        "  "
      ],
      "execution_count": 8,
      "outputs": []
    },
    {
      "cell_type": "code",
      "metadata": {
        "id": "US8Mc3aoqKIR"
      },
      "source": [
        "# plot diagnostic learning curves\r\n",
        "def diagnostics(histories):\r\n",
        "\tfor i in range(len(histories)):\r\n",
        "\t\t# plot loss\r\n",
        "\t\tpyplot.subplot(2, 1, 1)\r\n",
        "\t\tpyplot.title('Cross Entropy Loss')\r\n",
        "\t\tpyplot.plot(histories[i].history['loss'], color='blue', label='train')\r\n",
        "\t\tpyplot.plot(histories[i].history['val_loss'], color='orange', label='test')\r\n",
        "\t\t# plot accuracy\r\n",
        "\t\tpyplot.subplot(2, 1, 2)\r\n",
        "\t\tpyplot.title('Classification Accuracy')\r\n",
        "\t\tpyplot.plot(histories[i].history['accuracy'], color='blue', label='train')\r\n",
        "\t\tpyplot.plot(histories[i].history['val_accuracy'], color='orange', label='test')\r\n",
        "\tpyplot.show()"
      ],
      "execution_count": 9,
      "outputs": []
    },
    {
      "cell_type": "code",
      "metadata": {
        "id": "K1fu321aqNah"
      },
      "source": [
        "# summarize model performance\r\n",
        "def sumperformance(scores):\r\n",
        "\t# print summary\r\n",
        "\tprint('Accuracy: mean=%.3f std=%.3f, n=%d' % (mean(scores)*100, std(scores)*100, len(scores)))\r\n",
        "\t# box and whisker plots of results\r\n",
        "\tpyplot.boxplot(scores)\r\n",
        "\tpyplot.show()"
      ],
      "execution_count": 10,
      "outputs": []
    },
    {
      "cell_type": "code",
      "metadata": {
        "id": "zVl05rv8qUcK"
      },
      "source": [
        "# run the test harness for evaluating a model\r\n",
        "def run_test_harness():\r\n",
        "\t# load dataset\r\n",
        "\ttrainX, trainY, testX, testY = load_dataset()\r\n",
        "\t# prepare pixel data\r\n",
        "\ttrainX, testX = prep_pixels(trainX, testX)\r\n",
        "\t# evaluate model\r\n",
        "\tscores, histories = modelevaluate(trainX, trainY)\r\n",
        "\t# learning curves\r\n",
        "\tdiagnostics(histories)\r\n",
        "\t# summarize estimated performance\r\n",
        "\tsumperformance(scores)"
      ],
      "execution_count": 11,
      "outputs": []
    },
    {
      "cell_type": "code",
      "metadata": {
        "colab": {
          "base_uri": "https://localhost:8080/"
        },
        "id": "gSerJ7-ysOcr",
        "outputId": "24dab9e3-1f35-4341-90ee-5957f82500d9"
      },
      "source": [
        "trainX.max()"
      ],
      "execution_count": 12,
      "outputs": [
        {
          "output_type": "execute_result",
          "data": {
            "text/plain": [
              "1.0"
            ]
          },
          "metadata": {
            "tags": []
          },
          "execution_count": 12
        }
      ]
    },
    {
      "cell_type": "code",
      "metadata": {
        "colab": {
          "base_uri": "https://localhost:8080/"
        },
        "id": "PnhRYdE5sjgy",
        "outputId": "2d9a991d-2853-460e-9439-ca95fd9ff07b"
      },
      "source": [
        "trainX.min()"
      ],
      "execution_count": 13,
      "outputs": [
        {
          "output_type": "execute_result",
          "data": {
            "text/plain": [
              "0.0"
            ]
          },
          "metadata": {
            "tags": []
          },
          "execution_count": 13
        }
      ]
    },
    {
      "cell_type": "code",
      "metadata": {
        "colab": {
          "base_uri": "https://localhost:8080/",
          "height": 719
        },
        "id": "fa5IXOQcs1xD",
        "outputId": "e29fd842-405c-4827-83f8-fea52a76a080"
      },
      "source": [
        "firstmodel = simplemodel()\r\n",
        "modelevaluate(testX,testY)\r\n",
        "#yes i could have used run_test_harness()\r\n"
      ],
      "execution_count": 14,
      "outputs": [
        {
          "output_type": "stream",
          "text": [
            "> 97.100\n",
            "> 97.200\n",
            "> 97.700\n",
            "> 97.750\n",
            "> 97.300\n"
          ],
          "name": "stdout"
        },
        {
          "output_type": "stream",
          "text": [
            "/usr/local/lib/python3.6/dist-packages/ipykernel_launcher.py:5: MatplotlibDeprecationWarning: Adding an axes using the same arguments as a previous axes currently reuses the earlier instance.  In a future version, a new instance will always be created and returned.  Meanwhile, this warning can be suppressed, and the future behavior ensured, by passing a unique label to each axes instance.\n",
            "  \"\"\"\n",
            "/usr/local/lib/python3.6/dist-packages/ipykernel_launcher.py:10: MatplotlibDeprecationWarning: Adding an axes using the same arguments as a previous axes currently reuses the earlier instance.  In a future version, a new instance will always be created and returned.  Meanwhile, this warning can be suppressed, and the future behavior ensured, by passing a unique label to each axes instance.\n",
            "  # Remove the CWD from sys.path while we load stuff.\n"
          ],
          "name": "stderr"
        },
        {
          "output_type": "display_data",
          "data": {
            "image/png": "[encoded data removed]",
            "text/plain": [
              "<Figure size 432x288 with 2 Axes>"
            ]
          },
          "metadata": {
            "tags": [],
            "needs_background": "light"
          }
        },
        {
          "output_type": "stream",
          "text": [
            "Accuracy: mean=97.410 std=0.265, n=5\n"
          ],
          "name": "stdout"
        },
        {
          "output_type": "display_data",
          "data": {
            "image/png": "[encoded data removed]",
            "text/plain": [
              "<Figure size 432x288 with 1 Axes>"
            ]
          },
          "metadata": {
            "tags": [],
            "needs_background": "light"
          }
        }
      ]
    },
    {
      "cell_type": "markdown",
      "metadata": {
        "id": "INOAmOMe8F35"
      },
      "source": [
        "#Improved model"
      ]
    },
    {
      "cell_type": "markdown",
      "metadata": {
        "id": "-iFTufzECKkH"
      },
      "source": [
        "## Model 2: Using Batch Normalization"
      ]
    },
    {
      "cell_type": "code",
      "metadata": {
        "id": "cEEDVVpK8C8L"
      },
      "source": [
        "def batchmodel():\r\n",
        "\tmodel = Sequential()\r\n",
        "\tmodel.add(Conv2D(32, (3, 3), activation='relu', kernel_initializer='he_uniform', input_shape=(28, 28, 1)))\r\n",
        "\tmodel.add(BatchNormalization())\r\n",
        "\tmodel.add(MaxPooling2D((2, 2)))\r\n",
        "\tmodel.add(Flatten())\r\n",
        "\tmodel.add(Dense(100, activation='relu', kernel_initializer='he_uniform'))\r\n",
        "\tmodel.add(BatchNormalization())\r\n",
        "\tmodel.add(Dense(10, activation='softmax'))\r\n",
        "\t# compile model\r\n",
        "\topt = SGD(lr=0.01, momentum=0.9)\r\n",
        "\tmodel.compile(optimizer=opt, loss='categorical_crossentropy', metrics=['accuracy'])\r\n",
        "\treturn model"
      ],
      "execution_count": 15,
      "outputs": []
    },
    {
      "cell_type": "code",
      "metadata": {
        "id": "qL7E0wXyN9P6"
      },
      "source": [
        "model_2=batchmodel()"
      ],
      "execution_count": 24,
      "outputs": []
    },
    {
      "cell_type": "code",
      "metadata": {
        "colab": {
          "base_uri": "https://localhost:8080/"
        },
        "id": "wCsPOgT1CefT",
        "outputId": "bde6f705-2d28-47f1-c4a7-b6acdd1a4eb4"
      },
      "source": [
        "model_2.summary()"
      ],
      "execution_count": 25,
      "outputs": [
        {
          "output_type": "stream",
          "text": [
            "Model: \"sequential_7\"\n",
            "_________________________________________________________________\n",
            "Layer (type)                 Output Shape              Param #   \n",
            "=================================================================\n",
            "conv2d_7 (Conv2D)            (None, 26, 26, 32)        320       \n",
            "_________________________________________________________________\n",
            "batch_normalization_2 (Batch (None, 26, 26, 32)        128       \n",
            "_________________________________________________________________\n",
            "max_pooling2d_7 (MaxPooling2 (None, 13, 13, 32)        0         \n",
            "_________________________________________________________________\n",
            "flatten_7 (Flatten)          (None, 5408)              0         \n",
            "_________________________________________________________________\n",
            "dense_14 (Dense)             (None, 100)               540900    \n",
            "_________________________________________________________________\n",
            "batch_normalization_3 (Batch (None, 100)               400       \n",
            "_________________________________________________________________\n",
            "dense_15 (Dense)             (None, 10)                1010      \n",
            "=================================================================\n",
            "Total params: 542,758\n",
            "Trainable params: 542,494\n",
            "Non-trainable params: 264\n",
            "_________________________________________________________________\n"
          ],
          "name": "stdout"
        }
      ]
    },
    {
      "cell_type": "code",
      "metadata": {
        "colab": {
          "base_uri": "https://localhost:8080/"
        },
        "id": "3qUN1A9JDHgy",
        "outputId": "541e42a0-2a46-45d3-c0c1-149041924f02"
      },
      "source": [
        "scores_2 = []\r\n",
        "kfold = KFold(5, shuffle=True, random_state=1)\r\n",
        "# enumerate splits\r\n",
        "for train_ix, test_ix in kfold.split(trainX):\r\n",
        "    history = model_2.fit(trainX, trainY, epochs=5, batch_size=32, validation_data=(testX, testY), verbose=0)\r\n",
        "    _, acc = model_2.evaluate(testX, testY, verbose=1)\r\n",
        "    print('> %.3f' % (acc * 100.0))\r\n",
        "    scores_2.append(acc)\r\n"
      ],
      "execution_count": 26,
      "outputs": [
        {
          "output_type": "stream",
          "text": [
            "313/313 [==============================] - 1s 2ms/step - loss: 0.0431 - accuracy: 0.9865\n",
            "> 98.650\n",
            "313/313 [==============================] - 1s 2ms/step - loss: 0.0389 - accuracy: 0.9887\n",
            "> 98.870\n",
            "313/313 [==============================] - 1s 2ms/step - loss: 0.0410 - accuracy: 0.9879\n",
            "> 98.790\n",
            "313/313 [==============================] - 1s 2ms/step - loss: 0.0417 - accuracy: 0.9882\n",
            "> 98.820\n",
            "313/313 [==============================] - 1s 2ms/step - loss: 0.0470 - accuracy: 0.9887\n",
            "> 98.870\n"
          ],
          "name": "stdout"
        }
      ]
    },
    {
      "cell_type": "code",
      "metadata": {
        "colab": {
          "base_uri": "https://localhost:8080/"
        },
        "id": "JQ_Vq4GsH8CI",
        "outputId": "26e4f3d8-6a32-4ce5-d88e-ec5d3465c0db"
      },
      "source": [
        "print('accuracy: mean=%.3f std=%.3f, n=%d' % (np.mean(scores_2)*100, np.std(scores_2)*100, len(scores_2)))\r\n"
      ],
      "execution_count": 27,
      "outputs": [
        {
          "output_type": "stream",
          "text": [
            "accuracy: mean=98.800 std=0.081, n=5\n"
          ],
          "name": "stdout"
        }
      ]
    },
    {
      "cell_type": "markdown",
      "metadata": {
        "id": "1Zn3kHLOPV5A"
      },
      "source": [
        "Model 3: Increasing the depth with VGG-like pattern"
      ]
    },
    {
      "cell_type": "markdown",
      "metadata": {
        "id": "ruRBvU0IPj7x"
      },
      "source": [
        "We can increase the depth of the feature extractor part of the model, following a VGG-like pattern of adding more convolutional and pooling layers with the same sized filter, while increasing the number of filters. In this case, we will add a double convolutional layer with 64 filters each, followed by another max pooling layer."
      ]
    },
    {
      "cell_type": "code",
      "metadata": {
        "id": "WaVrh9GBPM6r"
      },
      "source": [
        "def modelvgg():\r\n",
        "\tmodel = Sequential()\r\n",
        "\tmodel.add(Conv2D(32, (3, 3), activation='relu', kernel_initializer='he_uniform', input_shape=(28, 28, 1)))\r\n",
        "\tmodel.add(MaxPooling2D((2, 2)))\r\n",
        "\tmodel.add(Conv2D(64, (3, 3), activation='relu', kernel_initializer='he_uniform'))\r\n",
        "\tmodel.add(Conv2D(64, (3, 3), activation='relu', kernel_initializer='he_uniform'))\r\n",
        "\tmodel.add(MaxPooling2D((2, 2)))\r\n",
        "\tmodel.add(Flatten())\r\n",
        "\tmodel.add(Dense(100, activation='relu', kernel_initializer='he_uniform'))\r\n",
        "\tmodel.add(Dense(10, activation='softmax'))\r\n",
        "\t# compile model\r\n",
        "\topt = SGD(lr=0.01, momentum=0.9)\r\n",
        "\tmodel.compile(optimizer=opt, loss='categorical_crossentropy', metrics=['accuracy'])\r\n",
        "\treturn model"
      ],
      "execution_count": 45,
      "outputs": []
    },
    {
      "cell_type": "code",
      "metadata": {
        "id": "vbVib-qwPqxp"
      },
      "source": [
        "model_3 = modelvgg()"
      ],
      "execution_count": 46,
      "outputs": []
    },
    {
      "cell_type": "code",
      "metadata": {
        "colab": {
          "base_uri": "https://localhost:8080/"
        },
        "id": "Tk-q9lGQQlj5",
        "outputId": "a0fa0203-07d8-4fd7-8e1f-c13ebd9b6177"
      },
      "source": [
        "model_3.summary()"
      ],
      "execution_count": 47,
      "outputs": [
        {
          "output_type": "stream",
          "text": [
            "Model: \"sequential_9\"\n",
            "_________________________________________________________________\n",
            "Layer (type)                 Output Shape              Param #   \n",
            "=================================================================\n",
            "conv2d_11 (Conv2D)           (None, 26, 26, 32)        320       \n",
            "_________________________________________________________________\n",
            "max_pooling2d_10 (MaxPooling (None, 13, 13, 32)        0         \n",
            "_________________________________________________________________\n",
            "conv2d_12 (Conv2D)           (None, 11, 11, 64)        18496     \n",
            "_________________________________________________________________\n",
            "conv2d_13 (Conv2D)           (None, 9, 9, 64)          36928     \n",
            "_________________________________________________________________\n",
            "max_pooling2d_11 (MaxPooling (None, 4, 4, 64)          0         \n",
            "_________________________________________________________________\n",
            "flatten_9 (Flatten)          (None, 1024)              0         \n",
            "_________________________________________________________________\n",
            "dense_18 (Dense)             (None, 100)               102500    \n",
            "_________________________________________________________________\n",
            "dense_19 (Dense)             (None, 10)                1010      \n",
            "=================================================================\n",
            "Total params: 159,254\n",
            "Trainable params: 159,254\n",
            "Non-trainable params: 0\n",
            "_________________________________________________________________\n"
          ],
          "name": "stdout"
        }
      ]
    },
    {
      "cell_type": "code",
      "metadata": {
        "colab": {
          "base_uri": "https://localhost:8080/"
        },
        "id": "1njmu3yqPwZ5",
        "outputId": "bd149b3c-9e25-4f56-ffda-a8cf2e09d1e8"
      },
      "source": [
        "score_3 = []\r\n",
        "# prepare cross validation\r\n",
        "kfold = KFold(5, shuffle=True, random_state=1)\r\n",
        "# enumerate splits\r\n",
        "for train_ix, test_ix in kfold.split(trainX):\r\n",
        "    # define model\r\n",
        "    # fit model\r\n",
        "    history = model_3.fit(trainX, trainY, epochs=3, batch_size=128, validation_data=(testX, testY), verbose=1)\r\n",
        "    # evaluate model\r\n",
        "    _, acc = model_3.evaluate(testX, testY, verbose=1)\r\n",
        "    print('> %.3f' % (acc * 100.0))\r\n",
        "    score_3.append(acc)\r\n"
      ],
      "execution_count": 48,
      "outputs": [
        {
          "output_type": "stream",
          "text": [
            "Epoch 1/3\n",
            "469/469 [==============================] - 3s 6ms/step - loss: 0.5023 - accuracy: 0.8382 - val_loss: 0.0620 - val_accuracy: 0.9806\n",
            "Epoch 2/3\n",
            "469/469 [==============================] - 2s 5ms/step - loss: 0.0659 - accuracy: 0.9801 - val_loss: 0.0428 - val_accuracy: 0.9854\n",
            "Epoch 3/3\n",
            "469/469 [==============================] - 2s 5ms/step - loss: 0.0432 - accuracy: 0.9865 - val_loss: 0.0430 - val_accuracy: 0.9843\n",
            "313/313 [==============================] - 1s 2ms/step - loss: 0.0430 - accuracy: 0.9843\n",
            "> 98.430\n",
            "Epoch 1/3\n",
            "469/469 [==============================] - 2s 5ms/step - loss: 0.0345 - accuracy: 0.9893 - val_loss: 0.0332 - val_accuracy: 0.9891\n",
            "Epoch 2/3\n",
            "469/469 [==============================] - 2s 5ms/step - loss: 0.0279 - accuracy: 0.9914 - val_loss: 0.0309 - val_accuracy: 0.9893\n",
            "Epoch 3/3\n",
            "469/469 [==============================] - 3s 6ms/step - loss: 0.0248 - accuracy: 0.9920 - val_loss: 0.0306 - val_accuracy: 0.9892\n",
            "313/313 [==============================] - 1s 2ms/step - loss: 0.0306 - accuracy: 0.9892\n",
            "> 98.920\n",
            "Epoch 1/3\n",
            "469/469 [==============================] - 3s 5ms/step - loss: 0.0203 - accuracy: 0.9939 - val_loss: 0.0372 - val_accuracy: 0.9869\n",
            "Epoch 2/3\n",
            "469/469 [==============================] - 3s 5ms/step - loss: 0.0173 - accuracy: 0.9947 - val_loss: 0.0307 - val_accuracy: 0.9894\n",
            "Epoch 3/3\n",
            "469/469 [==============================] - 2s 5ms/step - loss: 0.0139 - accuracy: 0.9958 - val_loss: 0.0290 - val_accuracy: 0.9911\n",
            "313/313 [==============================] - 1s 2ms/step - loss: 0.0290 - accuracy: 0.9911\n",
            "> 99.110\n",
            "Epoch 1/3\n",
            "469/469 [==============================] - 2s 5ms/step - loss: 0.0125 - accuracy: 0.9961 - val_loss: 0.0300 - val_accuracy: 0.9911\n",
            "Epoch 2/3\n",
            "469/469 [==============================] - 2s 5ms/step - loss: 0.0104 - accuracy: 0.9970 - val_loss: 0.0301 - val_accuracy: 0.9906\n",
            "Epoch 3/3\n",
            "469/469 [==============================] - 2s 5ms/step - loss: 0.0091 - accuracy: 0.9973 - val_loss: 0.0308 - val_accuracy: 0.9908\n",
            "313/313 [==============================] - 1s 2ms/step - loss: 0.0308 - accuracy: 0.9908\n",
            "> 99.080\n",
            "Epoch 1/3\n",
            "469/469 [==============================] - 3s 5ms/step - loss: 0.0076 - accuracy: 0.9977 - val_loss: 0.0286 - val_accuracy: 0.9913\n",
            "Epoch 2/3\n",
            "469/469 [==============================] - 2s 5ms/step - loss: 0.0061 - accuracy: 0.9983 - val_loss: 0.0291 - val_accuracy: 0.9912\n",
            "Epoch 3/3\n",
            "469/469 [==============================] - 2s 5ms/step - loss: 0.0056 - accuracy: 0.9983 - val_loss: 0.0315 - val_accuracy: 0.9913\n",
            "313/313 [==============================] - 1s 2ms/step - loss: 0.0315 - accuracy: 0.9913\n",
            "> 99.130\n"
          ],
          "name": "stdout"
        }
      ]
    },
    {
      "cell_type": "code",
      "metadata": {
        "colab": {
          "base_uri": "https://localhost:8080/"
        },
        "id": "9afJXzmkRGpx",
        "outputId": "6a58f433-eee2-428b-a3b0-12e58118d8be"
      },
      "source": [
        "print('Accuracy: mean=%.3f std=%.3f, n=%d' % (np.mean(score_3)*100, np.std(score_3)*100, len(score_3)))"
      ],
      "execution_count": 49,
      "outputs": [
        {
          "output_type": "stream",
          "text": [
            "Accuracy: mean=98.934 std=0.263, n=5\n"
          ],
          "name": "stdout"
        }
      ]
    }
  ]
}